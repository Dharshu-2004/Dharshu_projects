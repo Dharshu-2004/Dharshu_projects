{
  "nbformat": 4,
  "nbformat_minor": 0,
  "metadata": {
    "colab": {
      "provenance": []
    },
    "kernelspec": {
      "name": "python3",
      "display_name": "Python 3"
    },
    "language_info": {
      "name": "python"
    }
  },
  "cells": [
    {
      "cell_type": "code",
      "execution_count": 2,
      "metadata": {
        "colab": {
          "base_uri": "https://localhost:8080/",
          "height": 342
        },
        "id": "UxSh5qLtWKnr",
        "outputId": "216dcdd8-6caf-498d-cf7a-bb37b0e2dc98"
      },
      "outputs": [
        {
          "output_type": "error",
          "ename": "ModuleNotFoundError",
          "evalue": "No module named 'ntlk'",
          "traceback": [
            "\u001b[0;31m---------------------------------------------------------------------------\u001b[0m",
            "\u001b[0;31mModuleNotFoundError\u001b[0m                       Traceback (most recent call last)",
            "\u001b[0;32m<ipython-input-2-9b01bf07c11a>\u001b[0m in \u001b[0;36m<cell line: 2>\u001b[0;34m()\u001b[0m\n\u001b[1;32m      1\u001b[0m \u001b[0;32mimport\u001b[0m \u001b[0mos\u001b[0m\u001b[0;34m\u001b[0m\u001b[0;34m\u001b[0m\u001b[0m\n\u001b[0;32m----> 2\u001b[0;31m \u001b[0;32mimport\u001b[0m \u001b[0mntlk\u001b[0m\u001b[0;34m\u001b[0m\u001b[0;34m\u001b[0m\u001b[0m\n\u001b[0m",
            "\u001b[0;31mModuleNotFoundError\u001b[0m: No module named 'ntlk'",
            "",
            "\u001b[0;31m---------------------------------------------------------------------------\u001b[0;32m\nNOTE: If your import is failing due to a missing package, you can\nmanually install dependencies using either !pip or !apt.\n\nTo view examples of installing some common dependencies, click the\n\"Open Examples\" button below.\n\u001b[0;31m---------------------------------------------------------------------------\u001b[0m\n"
          ],
          "errorDetails": {
            "actions": [
              {
                "action": "open_url",
                "actionText": "Open Examples",
                "url": "/notebooks/snippets/importing_libraries.ipynb"
              }
            ]
          }
        }
      ],
      "source": [
        "import os\n",
        "import ntlk"
      ]
    },
    {
      "cell_type": "code",
      "source": [
        "pip install nltk\n"
      ],
      "metadata": {
        "colab": {
          "base_uri": "https://localhost:8080/"
        },
        "id": "SFgmvccvY8np",
        "outputId": "4db3f9a6-7366-411d-ce11-93a6bf1ee245"
      },
      "execution_count": 5,
      "outputs": [
        {
          "output_type": "stream",
          "name": "stdout",
          "text": [
            "Requirement already satisfied: nltk in /usr/local/lib/python3.10/dist-packages (3.8.1)\n",
            "Requirement already satisfied: click in /usr/local/lib/python3.10/dist-packages (from nltk) (8.1.7)\n",
            "Requirement already satisfied: joblib in /usr/local/lib/python3.10/dist-packages (from nltk) (1.4.2)\n",
            "Requirement already satisfied: regex>=2021.8.3 in /usr/local/lib/python3.10/dist-packages (from nltk) (2024.5.15)\n",
            "Requirement already satisfied: tqdm in /usr/local/lib/python3.10/dist-packages (from nltk) (4.66.5)\n"
          ]
        }
      ]
    },
    {
      "cell_type": "code",
      "source": [
        "import os\n",
        "import nltk\n",
        "import nltk.corpus"
      ],
      "metadata": {
        "id": "wrJ_7CX6Y_nC"
      },
      "execution_count": 8,
      "outputs": []
    },
    {
      "cell_type": "code",
      "source": [
        "nltk.download('all')\n"
      ],
      "metadata": {
        "colab": {
          "base_uri": "https://localhost:8080/"
        },
        "id": "BxCmTUx9Z3gf",
        "outputId": "56d12650-6116-4a5e-adb9-685ccf816020"
      },
      "execution_count": 11,
      "outputs": [
        {
          "output_type": "stream",
          "name": "stderr",
          "text": [
            "[nltk_data] Downloading collection 'all'\n",
            "[nltk_data]    | \n",
            "[nltk_data]    | Downloading package abc to /root/nltk_data...\n",
            "[nltk_data]    |   Unzipping corpora/abc.zip.\n",
            "[nltk_data]    | Downloading package alpino to /root/nltk_data...\n",
            "[nltk_data]    |   Unzipping corpora/alpino.zip.\n",
            "[nltk_data]    | Downloading package averaged_perceptron_tagger to\n",
            "[nltk_data]    |     /root/nltk_data...\n",
            "[nltk_data]    |   Unzipping taggers/averaged_perceptron_tagger.zip.\n",
            "[nltk_data]    | Downloading package averaged_perceptron_tagger_eng to\n",
            "[nltk_data]    |     /root/nltk_data...\n",
            "[nltk_data]    |   Unzipping\n",
            "[nltk_data]    |       taggers/averaged_perceptron_tagger_eng.zip.\n",
            "[nltk_data]    | Downloading package averaged_perceptron_tagger_ru to\n",
            "[nltk_data]    |     /root/nltk_data...\n",
            "[nltk_data]    |   Unzipping\n",
            "[nltk_data]    |       taggers/averaged_perceptron_tagger_ru.zip.\n",
            "[nltk_data]    | Downloading package averaged_perceptron_tagger_rus to\n",
            "[nltk_data]    |     /root/nltk_data...\n",
            "[nltk_data]    |   Unzipping\n",
            "[nltk_data]    |       taggers/averaged_perceptron_tagger_rus.zip.\n",
            "[nltk_data]    | Downloading package basque_grammars to\n",
            "[nltk_data]    |     /root/nltk_data...\n",
            "[nltk_data]    |   Unzipping grammars/basque_grammars.zip.\n",
            "[nltk_data]    | Downloading package bcp47 to /root/nltk_data...\n",
            "[nltk_data]    | Downloading package biocreative_ppi to\n",
            "[nltk_data]    |     /root/nltk_data...\n",
            "[nltk_data]    |   Unzipping corpora/biocreative_ppi.zip.\n",
            "[nltk_data]    | Downloading package bllip_wsj_no_aux to\n",
            "[nltk_data]    |     /root/nltk_data...\n",
            "[nltk_data]    |   Unzipping models/bllip_wsj_no_aux.zip.\n",
            "[nltk_data]    | Downloading package book_grammars to\n",
            "[nltk_data]    |     /root/nltk_data...\n",
            "[nltk_data]    |   Unzipping grammars/book_grammars.zip.\n",
            "[nltk_data]    | Downloading package brown to /root/nltk_data...\n",
            "[nltk_data]    |   Unzipping corpora/brown.zip.\n",
            "[nltk_data]    | Downloading package brown_tei to /root/nltk_data...\n",
            "[nltk_data]    |   Unzipping corpora/brown_tei.zip.\n",
            "[nltk_data]    | Downloading package cess_cat to /root/nltk_data...\n",
            "[nltk_data]    |   Unzipping corpora/cess_cat.zip.\n",
            "[nltk_data]    | Downloading package cess_esp to /root/nltk_data...\n",
            "[nltk_data]    |   Unzipping corpora/cess_esp.zip.\n",
            "[nltk_data]    | Downloading package chat80 to /root/nltk_data...\n",
            "[nltk_data]    |   Unzipping corpora/chat80.zip.\n",
            "[nltk_data]    | Downloading package city_database to\n",
            "[nltk_data]    |     /root/nltk_data...\n",
            "[nltk_data]    |   Unzipping corpora/city_database.zip.\n",
            "[nltk_data]    | Downloading package cmudict to /root/nltk_data...\n",
            "[nltk_data]    |   Unzipping corpora/cmudict.zip.\n",
            "[nltk_data]    | Downloading package comparative_sentences to\n",
            "[nltk_data]    |     /root/nltk_data...\n",
            "[nltk_data]    |   Unzipping corpora/comparative_sentences.zip.\n",
            "[nltk_data]    | Downloading package comtrans to /root/nltk_data...\n",
            "[nltk_data]    | Downloading package conll2000 to /root/nltk_data...\n",
            "[nltk_data]    |   Unzipping corpora/conll2000.zip.\n",
            "[nltk_data]    | Downloading package conll2002 to /root/nltk_data...\n",
            "[nltk_data]    |   Unzipping corpora/conll2002.zip.\n",
            "[nltk_data]    | Downloading package conll2007 to /root/nltk_data...\n",
            "[nltk_data]    | Downloading package crubadan to /root/nltk_data...\n",
            "[nltk_data]    |   Unzipping corpora/crubadan.zip.\n",
            "[nltk_data]    | Downloading package dependency_treebank to\n",
            "[nltk_data]    |     /root/nltk_data...\n",
            "[nltk_data]    |   Unzipping corpora/dependency_treebank.zip.\n",
            "[nltk_data]    | Downloading package dolch to /root/nltk_data...\n",
            "[nltk_data]    |   Unzipping corpora/dolch.zip.\n",
            "[nltk_data]    | Downloading package europarl_raw to\n",
            "[nltk_data]    |     /root/nltk_data...\n",
            "[nltk_data]    |   Unzipping corpora/europarl_raw.zip.\n",
            "[nltk_data]    | Downloading package extended_omw to\n",
            "[nltk_data]    |     /root/nltk_data...\n",
            "[nltk_data]    | Downloading package floresta to /root/nltk_data...\n",
            "[nltk_data]    |   Unzipping corpora/floresta.zip.\n",
            "[nltk_data]    | Downloading package framenet_v15 to\n",
            "[nltk_data]    |     /root/nltk_data...\n",
            "[nltk_data]    |   Unzipping corpora/framenet_v15.zip.\n",
            "[nltk_data]    | Downloading package framenet_v17 to\n",
            "[nltk_data]    |     /root/nltk_data...\n",
            "[nltk_data]    |   Unzipping corpora/framenet_v17.zip.\n",
            "[nltk_data]    | Downloading package gazetteers to /root/nltk_data...\n",
            "[nltk_data]    |   Unzipping corpora/gazetteers.zip.\n",
            "[nltk_data]    | Downloading package genesis to /root/nltk_data...\n",
            "[nltk_data]    |   Unzipping corpora/genesis.zip.\n",
            "[nltk_data]    | Downloading package gutenberg to /root/nltk_data...\n",
            "[nltk_data]    |   Unzipping corpora/gutenberg.zip.\n",
            "[nltk_data]    | Downloading package ieer to /root/nltk_data...\n",
            "[nltk_data]    |   Unzipping corpora/ieer.zip.\n",
            "[nltk_data]    | Downloading package inaugural to /root/nltk_data...\n",
            "[nltk_data]    |   Unzipping corpora/inaugural.zip.\n",
            "[nltk_data]    | Downloading package indian to /root/nltk_data...\n",
            "[nltk_data]    |   Unzipping corpora/indian.zip.\n",
            "[nltk_data]    | Downloading package jeita to /root/nltk_data...\n",
            "[nltk_data]    | Downloading package kimmo to /root/nltk_data...\n",
            "[nltk_data]    |   Unzipping corpora/kimmo.zip.\n",
            "[nltk_data]    | Downloading package knbc to /root/nltk_data...\n",
            "[nltk_data]    | Downloading package large_grammars to\n",
            "[nltk_data]    |     /root/nltk_data...\n",
            "[nltk_data]    |   Unzipping grammars/large_grammars.zip.\n",
            "[nltk_data]    | Downloading package lin_thesaurus to\n",
            "[nltk_data]    |     /root/nltk_data...\n",
            "[nltk_data]    |   Unzipping corpora/lin_thesaurus.zip.\n",
            "[nltk_data]    | Downloading package mac_morpho to /root/nltk_data...\n",
            "[nltk_data]    |   Unzipping corpora/mac_morpho.zip.\n",
            "[nltk_data]    | Downloading package machado to /root/nltk_data...\n",
            "[nltk_data]    | Downloading package masc_tagged to /root/nltk_data...\n",
            "[nltk_data]    | Downloading package maxent_ne_chunker to\n",
            "[nltk_data]    |     /root/nltk_data...\n",
            "[nltk_data]    |   Unzipping chunkers/maxent_ne_chunker.zip.\n",
            "[nltk_data]    | Downloading package maxent_ne_chunker_tab to\n",
            "[nltk_data]    |     /root/nltk_data...\n",
            "[nltk_data]    |   Unzipping chunkers/maxent_ne_chunker_tab.zip.\n",
            "[nltk_data]    | Downloading package maxent_treebank_pos_tagger to\n",
            "[nltk_data]    |     /root/nltk_data...\n",
            "[nltk_data]    |   Unzipping taggers/maxent_treebank_pos_tagger.zip.\n",
            "[nltk_data]    | Downloading package maxent_treebank_pos_tagger_tab to\n",
            "[nltk_data]    |     /root/nltk_data...\n",
            "[nltk_data]    |   Unzipping\n",
            "[nltk_data]    |       taggers/maxent_treebank_pos_tagger_tab.zip.\n",
            "[nltk_data]    | Downloading package moses_sample to\n",
            "[nltk_data]    |     /root/nltk_data...\n",
            "[nltk_data]    |   Unzipping models/moses_sample.zip.\n",
            "[nltk_data]    | Downloading package movie_reviews to\n",
            "[nltk_data]    |     /root/nltk_data...\n",
            "[nltk_data]    |   Unzipping corpora/movie_reviews.zip.\n",
            "[nltk_data]    | Downloading package mte_teip5 to /root/nltk_data...\n",
            "[nltk_data]    |   Unzipping corpora/mte_teip5.zip.\n",
            "[nltk_data]    | Downloading package mwa_ppdb to /root/nltk_data...\n",
            "[nltk_data]    |   Unzipping misc/mwa_ppdb.zip.\n",
            "[nltk_data]    | Downloading package names to /root/nltk_data...\n",
            "[nltk_data]    |   Unzipping corpora/names.zip.\n",
            "[nltk_data]    | Downloading package nombank.1.0 to /root/nltk_data...\n",
            "[nltk_data]    | Downloading package nonbreaking_prefixes to\n",
            "[nltk_data]    |     /root/nltk_data...\n",
            "[nltk_data]    |   Unzipping corpora/nonbreaking_prefixes.zip.\n",
            "[nltk_data]    | Downloading package nps_chat to /root/nltk_data...\n",
            "[nltk_data]    |   Unzipping corpora/nps_chat.zip.\n",
            "[nltk_data]    | Downloading package omw to /root/nltk_data...\n",
            "[nltk_data]    | Downloading package omw-1.4 to /root/nltk_data...\n",
            "[nltk_data]    | Downloading package opinion_lexicon to\n",
            "[nltk_data]    |     /root/nltk_data...\n",
            "[nltk_data]    |   Unzipping corpora/opinion_lexicon.zip.\n",
            "[nltk_data]    | Downloading package panlex_swadesh to\n",
            "[nltk_data]    |     /root/nltk_data...\n",
            "[nltk_data]    | Downloading package paradigms to /root/nltk_data...\n",
            "[nltk_data]    |   Unzipping corpora/paradigms.zip.\n",
            "[nltk_data]    | Downloading package pe08 to /root/nltk_data...\n",
            "[nltk_data]    |   Unzipping corpora/pe08.zip.\n",
            "[nltk_data]    | Downloading package perluniprops to\n",
            "[nltk_data]    |     /root/nltk_data...\n",
            "[nltk_data]    |   Unzipping misc/perluniprops.zip.\n",
            "[nltk_data]    | Downloading package pil to /root/nltk_data...\n",
            "[nltk_data]    |   Unzipping corpora/pil.zip.\n",
            "[nltk_data]    | Downloading package pl196x to /root/nltk_data...\n",
            "[nltk_data]    |   Unzipping corpora/pl196x.zip.\n",
            "[nltk_data]    | Downloading package porter_test to /root/nltk_data...\n",
            "[nltk_data]    |   Unzipping stemmers/porter_test.zip.\n",
            "[nltk_data]    | Downloading package ppattach to /root/nltk_data...\n",
            "[nltk_data]    |   Unzipping corpora/ppattach.zip.\n",
            "[nltk_data]    | Downloading package problem_reports to\n",
            "[nltk_data]    |     /root/nltk_data...\n",
            "[nltk_data]    |   Unzipping corpora/problem_reports.zip.\n",
            "[nltk_data]    | Downloading package product_reviews_1 to\n",
            "[nltk_data]    |     /root/nltk_data...\n",
            "[nltk_data]    |   Unzipping corpora/product_reviews_1.zip.\n",
            "[nltk_data]    | Downloading package product_reviews_2 to\n",
            "[nltk_data]    |     /root/nltk_data...\n",
            "[nltk_data]    |   Unzipping corpora/product_reviews_2.zip.\n",
            "[nltk_data]    | Downloading package propbank to /root/nltk_data...\n",
            "[nltk_data]    | Downloading package pros_cons to /root/nltk_data...\n",
            "[nltk_data]    |   Unzipping corpora/pros_cons.zip.\n",
            "[nltk_data]    | Downloading package ptb to /root/nltk_data...\n",
            "[nltk_data]    |   Unzipping corpora/ptb.zip.\n",
            "[nltk_data]    | Downloading package punkt to /root/nltk_data...\n",
            "[nltk_data]    |   Unzipping tokenizers/punkt.zip.\n",
            "[nltk_data]    | Downloading package punkt_tab to /root/nltk_data...\n",
            "[nltk_data]    |   Unzipping tokenizers/punkt_tab.zip.\n",
            "[nltk_data]    | Downloading package qc to /root/nltk_data...\n",
            "[nltk_data]    |   Unzipping corpora/qc.zip.\n",
            "[nltk_data]    | Downloading package reuters to /root/nltk_data...\n",
            "[nltk_data]    | Downloading package rslp to /root/nltk_data...\n",
            "[nltk_data]    |   Unzipping stemmers/rslp.zip.\n",
            "[nltk_data]    | Downloading package rte to /root/nltk_data...\n",
            "[nltk_data]    |   Unzipping corpora/rte.zip.\n",
            "[nltk_data]    | Downloading package sample_grammars to\n",
            "[nltk_data]    |     /root/nltk_data...\n",
            "[nltk_data]    |   Unzipping grammars/sample_grammars.zip.\n",
            "[nltk_data]    | Downloading package semcor to /root/nltk_data...\n",
            "[nltk_data]    | Downloading package senseval to /root/nltk_data...\n",
            "[nltk_data]    |   Unzipping corpora/senseval.zip.\n",
            "[nltk_data]    | Downloading package sentence_polarity to\n",
            "[nltk_data]    |     /root/nltk_data...\n",
            "[nltk_data]    |   Unzipping corpora/sentence_polarity.zip.\n",
            "[nltk_data]    | Downloading package sentiwordnet to\n",
            "[nltk_data]    |     /root/nltk_data...\n",
            "[nltk_data]    |   Unzipping corpora/sentiwordnet.zip.\n",
            "[nltk_data]    | Downloading package shakespeare to /root/nltk_data...\n",
            "[nltk_data]    |   Unzipping corpora/shakespeare.zip.\n",
            "[nltk_data]    | Downloading package sinica_treebank to\n",
            "[nltk_data]    |     /root/nltk_data...\n",
            "[nltk_data]    |   Unzipping corpora/sinica_treebank.zip.\n",
            "[nltk_data]    | Downloading package smultron to /root/nltk_data...\n",
            "[nltk_data]    |   Unzipping corpora/smultron.zip.\n",
            "[nltk_data]    | Downloading package snowball_data to\n",
            "[nltk_data]    |     /root/nltk_data...\n",
            "[nltk_data]    | Downloading package spanish_grammars to\n",
            "[nltk_data]    |     /root/nltk_data...\n",
            "[nltk_data]    |   Unzipping grammars/spanish_grammars.zip.\n",
            "[nltk_data]    | Downloading package state_union to /root/nltk_data...\n",
            "[nltk_data]    |   Unzipping corpora/state_union.zip.\n",
            "[nltk_data]    | Downloading package stopwords to /root/nltk_data...\n",
            "[nltk_data]    |   Unzipping corpora/stopwords.zip.\n",
            "[nltk_data]    | Downloading package subjectivity to\n",
            "[nltk_data]    |     /root/nltk_data...\n",
            "[nltk_data]    |   Unzipping corpora/subjectivity.zip.\n",
            "[nltk_data]    | Downloading package swadesh to /root/nltk_data...\n",
            "[nltk_data]    |   Unzipping corpora/swadesh.zip.\n",
            "[nltk_data]    | Downloading package switchboard to /root/nltk_data...\n",
            "[nltk_data]    |   Unzipping corpora/switchboard.zip.\n",
            "[nltk_data]    | Downloading package tagsets to /root/nltk_data...\n",
            "[nltk_data]    |   Unzipping help/tagsets.zip.\n",
            "[nltk_data]    | Downloading package tagsets_json to\n",
            "[nltk_data]    |     /root/nltk_data...\n",
            "[nltk_data]    |   Unzipping help/tagsets_json.zip.\n",
            "[nltk_data]    | Downloading package timit to /root/nltk_data...\n",
            "[nltk_data]    |   Unzipping corpora/timit.zip.\n",
            "[nltk_data]    | Downloading package toolbox to /root/nltk_data...\n",
            "[nltk_data]    |   Unzipping corpora/toolbox.zip.\n",
            "[nltk_data]    | Downloading package treebank to /root/nltk_data...\n",
            "[nltk_data]    |   Unzipping corpora/treebank.zip.\n",
            "[nltk_data]    | Downloading package twitter_samples to\n",
            "[nltk_data]    |     /root/nltk_data...\n",
            "[nltk_data]    |   Unzipping corpora/twitter_samples.zip.\n",
            "[nltk_data]    | Downloading package udhr to /root/nltk_data...\n",
            "[nltk_data]    |   Unzipping corpora/udhr.zip.\n",
            "[nltk_data]    | Downloading package udhr2 to /root/nltk_data...\n",
            "[nltk_data]    |   Unzipping corpora/udhr2.zip.\n",
            "[nltk_data]    | Downloading package unicode_samples to\n",
            "[nltk_data]    |     /root/nltk_data...\n",
            "[nltk_data]    |   Unzipping corpora/unicode_samples.zip.\n",
            "[nltk_data]    | Downloading package universal_tagset to\n",
            "[nltk_data]    |     /root/nltk_data...\n",
            "[nltk_data]    |   Unzipping taggers/universal_tagset.zip.\n",
            "[nltk_data]    | Downloading package universal_treebanks_v20 to\n",
            "[nltk_data]    |     /root/nltk_data...\n",
            "[nltk_data]    | Downloading package vader_lexicon to\n",
            "[nltk_data]    |     /root/nltk_data...\n",
            "[nltk_data]    | Downloading package verbnet to /root/nltk_data...\n",
            "[nltk_data]    |   Unzipping corpora/verbnet.zip.\n",
            "[nltk_data]    | Downloading package verbnet3 to /root/nltk_data...\n",
            "[nltk_data]    |   Unzipping corpora/verbnet3.zip.\n",
            "[nltk_data]    | Downloading package webtext to /root/nltk_data...\n",
            "[nltk_data]    |   Unzipping corpora/webtext.zip.\n",
            "[nltk_data]    | Downloading package wmt15_eval to /root/nltk_data...\n",
            "[nltk_data]    |   Unzipping models/wmt15_eval.zip.\n",
            "[nltk_data]    | Downloading package word2vec_sample to\n",
            "[nltk_data]    |     /root/nltk_data...\n",
            "[nltk_data]    |   Unzipping models/word2vec_sample.zip.\n",
            "[nltk_data]    | Downloading package wordnet to /root/nltk_data...\n",
            "[nltk_data]    | Downloading package wordnet2021 to /root/nltk_data...\n",
            "[nltk_data]    | Downloading package wordnet2022 to /root/nltk_data...\n",
            "[nltk_data]    |   Unzipping corpora/wordnet2022.zip.\n",
            "[nltk_data]    | Downloading package wordnet31 to /root/nltk_data...\n",
            "[nltk_data]    | Downloading package wordnet_ic to /root/nltk_data...\n",
            "[nltk_data]    |   Unzipping corpora/wordnet_ic.zip.\n",
            "[nltk_data]    | Downloading package words to /root/nltk_data...\n",
            "[nltk_data]    |   Unzipping corpora/words.zip.\n",
            "[nltk_data]    | Downloading package ycoe to /root/nltk_data...\n",
            "[nltk_data]    |   Unzipping corpora/ycoe.zip.\n",
            "[nltk_data]    | \n",
            "[nltk_data]  Done downloading collection all\n"
          ]
        },
        {
          "output_type": "execute_result",
          "data": {
            "text/plain": [
              "True"
            ]
          },
          "metadata": {},
          "execution_count": 11
        }
      ]
    },
    {
      "cell_type": "code",
      "source": [
        "nltk.download('wordnet')\n"
      ],
      "metadata": {
        "colab": {
          "base_uri": "https://localhost:8080/"
        },
        "id": "la3wFcLtaMFP",
        "outputId": "73705573-f4c4-46ed-c33b-97b60eea7049"
      },
      "execution_count": 12,
      "outputs": [
        {
          "output_type": "stream",
          "name": "stderr",
          "text": [
            "[nltk_data] Downloading package wordnet to /root/nltk_data...\n",
            "[nltk_data]   Package wordnet is already up-to-date!\n"
          ]
        },
        {
          "output_type": "execute_result",
          "data": {
            "text/plain": [
              "True"
            ]
          },
          "metadata": {},
          "execution_count": 12
        }
      ]
    },
    {
      "cell_type": "code",
      "source": [
        "print(os.listdir(nltk.data.find(\"corpora\")))"
      ],
      "metadata": {
        "colab": {
          "base_uri": "https://localhost:8080/"
        },
        "id": "Lz5XpQqqZcnv",
        "outputId": "745c4688-382d-4cdb-ebb6-a93d39a8f1dc"
      },
      "execution_count": 13,
      "outputs": [
        {
          "output_type": "stream",
          "name": "stdout",
          "text": [
            "['gutenberg.zip', 'sentence_polarity.zip', 'europarl_raw', 'udhr', 'masc_tagged.zip', 'ycoe.zip', 'unicode_samples.zip', 'floresta.zip', 'kimmo', 'unicode_samples', 'framenet_v15', 'wordnet.zip', 'indian', 'crubadan', 'nps_chat.zip', 'sentence_polarity', 'problem_reports', 'mte_teip5.zip', 'gazetteers', 'abc.zip', 'swadesh.zip', 'twitter_samples', 'brown_tei', 'biocreative_ppi', 'conll2000', 'chat80.zip', 'omw-1.4.zip', 'pl196x.zip', 'twitter_samples.zip', 'subjectivity', 'genesis', 'inaugural', 'subjectivity.zip', 'ptb', 'conll2002', 'state_union.zip', 'wordnet2022', 'comparative_sentences.zip', 'wordnet_ic.zip', 'product_reviews_1.zip', 'pe08.zip', 'framenet_v15.zip', 'movie_reviews', 'wordnet_ic', 'senseval', 'mac_morpho.zip', 'framenet_v17.zip', 'lin_thesaurus', 'cmudict.zip', 'sinica_treebank.zip', 'cess_cat', 'cess_esp', 'cess_cat.zip', 'jeita.zip', 'smultron', 'conll2002.zip', 'biocreative_ppi.zip', 'verbnet3.zip', 'toolbox', 'paradigms', 'udhr2.zip', 'product_reviews_1', 'rte', 'brown', 'switchboard', 'timit', 'mte_teip5', 'senseval.zip', 'lin_thesaurus.zip', 'city_database.zip', 'chat80', 'cess_esp.zip', 'ppattach.zip', 'mac_morpho', 'swadesh', 'alpino.zip', 'bcp47.zip', 'pil.zip', 'timit.zip', 'smultron.zip', 'words', 'ppattach', 'sinica_treebank', 'pl196x', 'genesis.zip', 'nonbreaking_prefixes.zip', 'wordnet2021.zip', 'movie_reviews.zip', 'dependency_treebank', 'product_reviews_2.zip', 'qc.zip', 'pil', 'ptb.zip', 'comparative_sentences', 'verbnet.zip', 'names', 'dolch', 'verbnet', 'pros_cons.zip', 'conll2007.zip', 'toolbox.zip', 'udhr.zip', 'ieer', 'shakespeare', 'crubadan.zip', 'gutenberg', 'qc', 'verbnet3', 'alpino', 'dependency_treebank.zip', 'kimmo.zip', 'abc', 'wordnet31.zip', 'paradigms.zip', 'switchboard.zip', 'udhr2', 'dolch.zip', 'pros_cons', 'nombank.1.0.zip', 'brown_tei.zip', 'stopwords.zip', 'names.zip', 'panlex_swadesh.zip', 'stopwords', 'propbank.zip', 'framenet_v17', 'product_reviews_2', 'pe08', 'semcor.zip', 'webtext.zip', 'sentiwordnet.zip', 'cmudict', 'floresta', 'omw.zip', 'brown.zip', 'inaugural.zip', 'machado.zip', 'wordnet2022.zip', 'shakespeare.zip', 'treebank', 'ieer.zip', 'words.zip', 'universal_treebanks_v20.zip', 'sentiwordnet', 'opinion_lexicon.zip', 'nps_chat', 'treebank.zip', 'webtext', 'extended_omw.zip', 'reuters.zip', 'conll2000.zip', 'city_database', 'rte.zip', 'ycoe', 'indian.zip', 'state_union', 'gazetteers.zip', 'comtrans.zip', 'problem_reports.zip', 'europarl_raw.zip', 'opinion_lexicon', 'knbc.zip', 'nonbreaking_prefixes']\n"
          ]
        }
      ]
    },
    {
      "cell_type": "code",
      "source": [
        "from nltk.corpus import brown\n",
        "brown.words"
      ],
      "metadata": {
        "colab": {
          "base_uri": "https://localhost:8080/",
          "height": 155
        },
        "id": "IKFGNs8uaPMy",
        "outputId": "14ee0837-da71-4e76-e97a-79f1b648cdf2"
      },
      "execution_count": 16,
      "outputs": [
        {
          "output_type": "execute_result",
          "data": {
            "text/plain": [
              "<bound method CategorizedCorpusReader.words of <CategorizedTaggedCorpusReader in '/root/nltk_data/corpora/brown'>>"
            ],
            "text/html": [
              "<div style=\"max-width:800px; border: 1px solid var(--colab-border-color);\"><style>\n",
              "      pre.function-repr-contents {\n",
              "        overflow-x: auto;\n",
              "        padding: 8px 12px;\n",
              "        max-height: 500px;\n",
              "      }\n",
              "\n",
              "      pre.function-repr-contents.function-repr-contents-collapsed {\n",
              "        cursor: pointer;\n",
              "        max-height: 100px;\n",
              "      }\n",
              "    </style>\n",
              "    <pre style=\"white-space: initial; background:\n",
              "         var(--colab-secondary-surface-color); padding: 8px 12px;\n",
              "         border-bottom: 1px solid var(--colab-border-color);\"><b>nltk.corpus.reader.api.CategorizedCorpusReader.words</b><br/>def words(fileids=None, categories=None)</pre><pre class=\"function-repr-contents function-repr-contents-collapsed\" style=\"\"><a class=\"filepath\" style=\"display:none\" href=\"#\">/usr/local/lib/python3.10/dist-packages/nltk/corpus/reader/api.py</a>:return: the given file(s) as a list of words\n",
              "    and punctuation symbols.\n",
              ":rtype: list(str)</pre>\n",
              "      <script>\n",
              "      if (google.colab.kernel.accessAllowed && google.colab.files && google.colab.files.view) {\n",
              "        for (const element of document.querySelectorAll('.filepath')) {\n",
              "          element.style.display = 'block'\n",
              "          element.onclick = (event) => {\n",
              "            event.preventDefault();\n",
              "            event.stopPropagation();\n",
              "            google.colab.files.view(element.textContent, 405);\n",
              "          };\n",
              "        }\n",
              "      }\n",
              "      for (const element of document.querySelectorAll('.function-repr-contents')) {\n",
              "        element.onclick = (event) => {\n",
              "          event.preventDefault();\n",
              "          event.stopPropagation();\n",
              "          element.classList.toggle('function-repr-contents-collapsed');\n",
              "        };\n",
              "      }\n",
              "      </script>\n",
              "      </div>"
            ]
          },
          "metadata": {},
          "execution_count": 16
        }
      ]
    },
    {
      "cell_type": "code",
      "source": [
        "nltk.corpus.gutenberg.fileids()\n",
        "from nltk.corpus import gutenberg\n",
        "gutenberg.fileids()\n"
      ],
      "metadata": {
        "colab": {
          "base_uri": "https://localhost:8080/"
        },
        "id": "gamdXcVKZm4-",
        "outputId": "5673c307-b783-4521-c712-2da09e78b629"
      },
      "execution_count": 18,
      "outputs": [
        {
          "output_type": "execute_result",
          "data": {
            "text/plain": [
              "['austen-emma.txt',\n",
              " 'austen-persuasion.txt',\n",
              " 'austen-sense.txt',\n",
              " 'bible-kjv.txt',\n",
              " 'blake-poems.txt',\n",
              " 'bryant-stories.txt',\n",
              " 'burgess-busterbrown.txt',\n",
              " 'carroll-alice.txt',\n",
              " 'chesterton-ball.txt',\n",
              " 'chesterton-brown.txt',\n",
              " 'chesterton-thursday.txt',\n",
              " 'edgeworth-parents.txt',\n",
              " 'melville-moby_dick.txt',\n",
              " 'milton-paradise.txt',\n",
              " 'shakespeare-caesar.txt',\n",
              " 'shakespeare-hamlet.txt',\n",
              " 'shakespeare-macbeth.txt',\n",
              " 'whitman-leaves.txt']"
            ]
          },
          "metadata": {},
          "execution_count": 18
        }
      ]
    },
    {
      "cell_type": "code",
      "source": [
        "macbeth = nltk.corpus.gutenberg.words('shakespeare-macbeth.txt')\n",
        "macbeth"
      ],
      "metadata": {
        "colab": {
          "base_uri": "https://localhost:8080/"
        },
        "id": "0lQqfWT9a-L3",
        "outputId": "816679e2-89d5-4598-a7c2-bc55ce7427a7"
      },
      "execution_count": 19,
      "outputs": [
        {
          "output_type": "execute_result",
          "data": {
            "text/plain": [
              "['[', 'The', 'Tragedie', 'of', 'Macbeth', 'by', ...]"
            ]
          },
          "metadata": {},
          "execution_count": 19
        }
      ]
    },
    {
      "cell_type": "code",
      "source": [
        "for word in macbeth[:500]:\n",
        "    print(word, sep=' ',end = ' ')"
      ],
      "metadata": {
        "colab": {
          "base_uri": "https://localhost:8080/"
        },
        "id": "iSOqxVJrbUP1",
        "outputId": "5d7cc6b3-dd94-45db-9196-1dc41e4d2ce1"
      },
      "execution_count": 20,
      "outputs": [
        {
          "output_type": "stream",
          "name": "stdout",
          "text": [
            "[ The Tragedie of Macbeth by William Shakespeare 1603 ] Actus Primus . Scoena Prima . Thunder and Lightning . Enter three Witches . 1 . When shall we three meet againe ? In Thunder , Lightning , or in Raine ? 2 . When the Hurley - burley ' s done , When the Battaile ' s lost , and wonne 3 . That will be ere the set of Sunne 1 . Where the place ? 2 . Vpon the Heath 3 . There to meet with Macbeth 1 . I come , Gray - Malkin All . Padock calls anon : faire is foule , and foule is faire , Houer through the fogge and filthie ayre . Exeunt . Scena Secunda . Alarum within . Enter King Malcome , Donalbaine , Lenox , with attendants , meeting a bleeding Captaine . King . What bloody man is that ? he can report , As seemeth by his plight , of the Reuolt The newest state Mal . This is the Serieant , Who like a good and hardie Souldier fought ' Gainst my Captiuitie : Haile braue friend ; Say to the King , the knowledge of the Broyle , As thou didst leaue it Cap . Doubtfull it stood , As two spent Swimmers , that doe cling together , And choake their Art : The mercilesse Macdonwald ( Worthie to be a Rebell , for to that The multiplying Villanies of Nature Doe swarme vpon him ) from the Westerne Isles Of Kernes and Gallowgrosses is supply ' d , And Fortune on his damned Quarry smiling , Shew ' d like a Rebells Whore : but all ' s too weake : For braue Macbeth ( well hee deserues that Name ) Disdayning Fortune , with his brandisht Steele , Which smoak ' d with bloody execution ( Like Valours Minion ) caru ' d out his passage , Till hee fac ' d the Slaue : Which neu ' r shooke hands , nor bad farwell to him , Till he vnseam ' d him from the Naue toth ' Chops , And fix ' d his Head vpon our Battlements King . O valiant Cousin , worthy Gentleman Cap . As whence the Sunne ' gins his reflection , Shipwracking Stormes , and direfull Thunders : So from that Spring , whence comfort seem ' d to come , Discomfort swells : Marke King of Scotland , marke , No sooner Iustice had , with Valour arm ' d , Compell ' d these skipping Kernes to trust their heeles , But the Norweyan Lord , surueying vantage , With furbusht Armes , and new supplyes of men , Began a fresh assault King . Dismay ' d not this our Captaines , Macbeth and Banquoh ? Cap . Yes , as Sparrowes , Eagles ; Or the Hare , the Lyon : If I say sooth , I must report "
          ]
        }
      ]
    },
    {
      "cell_type": "code",
      "source": [
        "Blockchain = \"\"\"Natural Language Processing (NLP) is a field of Artificial Intelligence that focuses on the interaction between computers and humans using natural language. It enables machines to understand, interpret, and generate human language, making it possible for computers to process and analyze large amounts of natural language data.\"\"\"\n",
        "print"
      ],
      "metadata": {
        "colab": {
          "base_uri": "https://localhost:8080/"
        },
        "id": "DFOKWyjochhs",
        "outputId": "b95d0222-a217-41b5-dcb5-6f29435c8fbd"
      },
      "execution_count": 21,
      "outputs": [
        {
          "output_type": "execute_result",
          "data": {
            "text/plain": [
              "<function print>"
            ]
          },
          "metadata": {},
          "execution_count": 21
        }
      ]
    },
    {
      "cell_type": "code",
      "source": [
        "type(Blockchain)"
      ],
      "metadata": {
        "colab": {
          "base_uri": "https://localhost:8080/"
        },
        "id": "tjmCmfblcpn_",
        "outputId": "be9ecf88-2ba8-4394-8ccc-e40843a32642"
      },
      "execution_count": 22,
      "outputs": [
        {
          "output_type": "execute_result",
          "data": {
            "text/plain": [
              "str"
            ]
          },
          "metadata": {},
          "execution_count": 22
        }
      ]
    },
    {
      "cell_type": "code",
      "source": [
        "from nltk.tokenize import word_tokenize"
      ],
      "metadata": {
        "id": "lDcUJFV3cs81"
      },
      "execution_count": 24,
      "outputs": []
    },
    {
      "cell_type": "code",
      "source": [
        "BC_tokens = word_tokenize(Blockchain)\n",
        "BC_tokens"
      ],
      "metadata": {
        "colab": {
          "base_uri": "https://localhost:8080/"
        },
        "id": "ybARKp9wc7MP",
        "outputId": "456e2e3e-3087-4118-f222-07ab9a7f7c42"
      },
      "execution_count": 25,
      "outputs": [
        {
          "output_type": "execute_result",
          "data": {
            "text/plain": [
              "['Natural',\n",
              " 'Language',\n",
              " 'Processing',\n",
              " '(',\n",
              " 'NLP',\n",
              " ')',\n",
              " 'is',\n",
              " 'a',\n",
              " 'field',\n",
              " 'of',\n",
              " 'Artificial',\n",
              " 'Intelligence',\n",
              " 'that',\n",
              " 'focuses',\n",
              " 'on',\n",
              " 'the',\n",
              " 'interaction',\n",
              " 'between',\n",
              " 'computers',\n",
              " 'and',\n",
              " 'humans',\n",
              " 'using',\n",
              " 'natural',\n",
              " 'language',\n",
              " '.',\n",
              " 'It',\n",
              " 'enables',\n",
              " 'machines',\n",
              " 'to',\n",
              " 'understand',\n",
              " ',',\n",
              " 'interpret',\n",
              " ',',\n",
              " 'and',\n",
              " 'generate',\n",
              " 'human',\n",
              " 'language',\n",
              " ',',\n",
              " 'making',\n",
              " 'it',\n",
              " 'possible',\n",
              " 'for',\n",
              " 'computers',\n",
              " 'to',\n",
              " 'process',\n",
              " 'and',\n",
              " 'analyze',\n",
              " 'large',\n",
              " 'amounts',\n",
              " 'of',\n",
              " 'natural',\n",
              " 'language',\n",
              " 'data',\n",
              " '.']"
            ]
          },
          "metadata": {},
          "execution_count": 25
        }
      ]
    },
    {
      "cell_type": "code",
      "source": [
        "len(BC_tokens)"
      ],
      "metadata": {
        "colab": {
          "base_uri": "https://localhost:8080/"
        },
        "id": "2iIllx70dMA2",
        "outputId": "91f29f2c-cfb0-4291-dd22-efa0ba4efcfb"
      },
      "execution_count": 27,
      "outputs": [
        {
          "output_type": "execute_result",
          "data": {
            "text/plain": [
              "54"
            ]
          },
          "metadata": {},
          "execution_count": 27
        }
      ]
    },
    {
      "cell_type": "code",
      "source": [
        "from nltk.probability import FreqDist\n",
        "fdist = FreqDist()"
      ],
      "metadata": {
        "id": "j4u5ZC5adP2F"
      },
      "execution_count": 29,
      "outputs": []
    },
    {
      "cell_type": "code",
      "source": [
        "for word in BC_tokens:\n",
        "    fdist[word.lower()]+=1\n",
        "fdist"
      ],
      "metadata": {
        "colab": {
          "base_uri": "https://localhost:8080/"
        },
        "id": "8UwR-CyPdXd9",
        "outputId": "fa747793-d131-46f3-9e3d-536c27436c21"
      },
      "execution_count": 30,
      "outputs": [
        {
          "output_type": "execute_result",
          "data": {
            "text/plain": [
              "FreqDist({'language': 4, 'natural': 3, 'and': 3, ',': 3, 'of': 2, 'computers': 2, '.': 2, 'it': 2, 'to': 2, 'processing': 1, ...})"
            ]
          },
          "metadata": {},
          "execution_count": 30
        }
      ]
    },
    {
      "cell_type": "code",
      "source": [
        "fdist['iot']"
      ],
      "metadata": {
        "colab": {
          "base_uri": "https://localhost:8080/"
        },
        "id": "0tbMshb1dcrg",
        "outputId": "5aca80f1-ec77-4a29-eb80-8f4125198f5a"
      },
      "execution_count": 31,
      "outputs": [
        {
          "output_type": "execute_result",
          "data": {
            "text/plain": [
              "0"
            ]
          },
          "metadata": {},
          "execution_count": 31
        }
      ]
    },
    {
      "cell_type": "code",
      "source": [
        "len(fdist)"
      ],
      "metadata": {
        "colab": {
          "base_uri": "https://localhost:8080/"
        },
        "id": "V5abrnL1dxa0",
        "outputId": "2c0f10c0-357f-4259-edb8-22eac968f12a"
      },
      "execution_count": 32,
      "outputs": [
        {
          "output_type": "execute_result",
          "data": {
            "text/plain": [
              "40"
            ]
          },
          "metadata": {},
          "execution_count": 32
        }
      ]
    },
    {
      "cell_type": "code",
      "source": [
        "fdist_top10=fdist.most_common(10)\n",
        "fdist_top10"
      ],
      "metadata": {
        "colab": {
          "base_uri": "https://localhost:8080/"
        },
        "id": "L1LJeNQ2d2s5",
        "outputId": "0f728c97-d538-41a1-d647-c0118bb9db74"
      },
      "execution_count": 33,
      "outputs": [
        {
          "output_type": "execute_result",
          "data": {
            "text/plain": [
              "[('language', 4),\n",
              " ('natural', 3),\n",
              " ('and', 3),\n",
              " (',', 3),\n",
              " ('of', 2),\n",
              " ('computers', 2),\n",
              " ('.', 2),\n",
              " ('it', 2),\n",
              " ('to', 2),\n",
              " ('processing', 1)]"
            ]
          },
          "metadata": {},
          "execution_count": 33
        }
      ]
    },
    {
      "cell_type": "code",
      "source": [
        "from nltk.tokenize import regexp_tokenize\n",
        "regexp_tokenize(Blockchain, pattern ='\\d+')"
      ],
      "metadata": {
        "colab": {
          "base_uri": "https://localhost:8080/"
        },
        "id": "Q4lwg8_pd8H-",
        "outputId": "1c4c1faa-6397-4878-f80f-7d228af3c0f5"
      },
      "execution_count": 34,
      "outputs": [
        {
          "output_type": "execute_result",
          "data": {
            "text/plain": [
              "[]"
            ]
          },
          "metadata": {},
          "execution_count": 34
        }
      ]
    },
    {
      "cell_type": "code",
      "source": [
        "from nltk.tokenize import blankline_tokenize\n",
        "BC_blank = blankline_tokenize(Blockchain)\n",
        "len(BC_blank)"
      ],
      "metadata": {
        "colab": {
          "base_uri": "https://localhost:8080/"
        },
        "id": "6QQzhyWJeicH",
        "outputId": "2549a7f9-e1b6-44ee-c9d3-ca741019e848"
      },
      "execution_count": 36,
      "outputs": [
        {
          "output_type": "execute_result",
          "data": {
            "text/plain": [
              "1"
            ]
          },
          "metadata": {},
          "execution_count": 36
        }
      ]
    },
    {
      "cell_type": "code",
      "source": [
        "BC_blank[0]"
      ],
      "metadata": {
        "colab": {
          "base_uri": "https://localhost:8080/",
          "height": 54
        },
        "id": "nefpiIDtfJEC",
        "outputId": "f2d10cf6-b99c-4416-d580-f23fcfa98ffe"
      },
      "execution_count": 39,
      "outputs": [
        {
          "output_type": "execute_result",
          "data": {
            "text/plain": [
              "'Natural Language Processing (NLP) is a field of Artificial Intelligence that focuses on the interaction between computers and humans using natural language. It enables machines to understand, interpret, and generate human language, making it possible for computers to process and analyze large amounts of natural language data.'"
            ],
            "application/vnd.google.colaboratory.intrinsic+json": {
              "type": "string"
            }
          },
          "metadata": {},
          "execution_count": 39
        }
      ]
    },
    {
      "cell_type": "code",
      "source": [
        "from nltk.tokenize import sent_tokenize\n",
        "BC_sent_tokenize = sent_tokenize(Blockchain)\n",
        "BC_sent_tokenize"
      ],
      "metadata": {
        "colab": {
          "base_uri": "https://localhost:8080/"
        },
        "id": "nWVcHx6RfU30",
        "outputId": "00ee84f7-a4f4-42ad-f676-8e2777aea2a2"
      },
      "execution_count": 41,
      "outputs": [
        {
          "output_type": "execute_result",
          "data": {
            "text/plain": [
              "['Natural Language Processing (NLP) is a field of Artificial Intelligence that focuses on the interaction between computers and humans using natural language.',\n",
              " 'It enables machines to understand, interpret, and generate human language, making it possible for computers to process and analyze large amounts of natural language data.']"
            ]
          },
          "metadata": {},
          "execution_count": 41
        }
      ]
    },
    {
      "cell_type": "code",
      "source": [
        "from nltk.util import bigrams, trigrams, ngrams\n",
        "BC_bigrams = list(nltk.bigrams(BC_tokens))\n",
        "BC_bigrams"
      ],
      "metadata": {
        "colab": {
          "base_uri": "https://localhost:8080/"
        },
        "id": "fniUEap8fkhv",
        "outputId": "599df582-32e8-4da7-ddb5-4543884dd4fe"
      },
      "execution_count": 42,
      "outputs": [
        {
          "output_type": "execute_result",
          "data": {
            "text/plain": [
              "[('Natural', 'Language'),\n",
              " ('Language', 'Processing'),\n",
              " ('Processing', '('),\n",
              " ('(', 'NLP'),\n",
              " ('NLP', ')'),\n",
              " (')', 'is'),\n",
              " ('is', 'a'),\n",
              " ('a', 'field'),\n",
              " ('field', 'of'),\n",
              " ('of', 'Artificial'),\n",
              " ('Artificial', 'Intelligence'),\n",
              " ('Intelligence', 'that'),\n",
              " ('that', 'focuses'),\n",
              " ('focuses', 'on'),\n",
              " ('on', 'the'),\n",
              " ('the', 'interaction'),\n",
              " ('interaction', 'between'),\n",
              " ('between', 'computers'),\n",
              " ('computers', 'and'),\n",
              " ('and', 'humans'),\n",
              " ('humans', 'using'),\n",
              " ('using', 'natural'),\n",
              " ('natural', 'language'),\n",
              " ('language', '.'),\n",
              " ('.', 'It'),\n",
              " ('It', 'enables'),\n",
              " ('enables', 'machines'),\n",
              " ('machines', 'to'),\n",
              " ('to', 'understand'),\n",
              " ('understand', ','),\n",
              " (',', 'interpret'),\n",
              " ('interpret', ','),\n",
              " (',', 'and'),\n",
              " ('and', 'generate'),\n",
              " ('generate', 'human'),\n",
              " ('human', 'language'),\n",
              " ('language', ','),\n",
              " (',', 'making'),\n",
              " ('making', 'it'),\n",
              " ('it', 'possible'),\n",
              " ('possible', 'for'),\n",
              " ('for', 'computers'),\n",
              " ('computers', 'to'),\n",
              " ('to', 'process'),\n",
              " ('process', 'and'),\n",
              " ('and', 'analyze'),\n",
              " ('analyze', 'large'),\n",
              " ('large', 'amounts'),\n",
              " ('amounts', 'of'),\n",
              " ('of', 'natural'),\n",
              " ('natural', 'language'),\n",
              " ('language', 'data'),\n",
              " ('data', '.')]"
            ]
          },
          "metadata": {},
          "execution_count": 42
        }
      ]
    },
    {
      "cell_type": "code",
      "source": [
        "string= \"Natural Language Processing (NLP) is a field of Artificial Intelligence that focuses on the interaction between computers and humans using natural language.\"\n",
        "quotes_tokens = nltk.word_tokenize(string)\n",
        "quotes_tokens"
      ],
      "metadata": {
        "colab": {
          "base_uri": "https://localhost:8080/"
        },
        "id": "LEv_StYNf4-Y",
        "outputId": "e021e796-0a4b-4416-810d-65f9d854f1a8"
      },
      "execution_count": 43,
      "outputs": [
        {
          "output_type": "execute_result",
          "data": {
            "text/plain": [
              "['Natural',\n",
              " 'Language',\n",
              " 'Processing',\n",
              " '(',\n",
              " 'NLP',\n",
              " ')',\n",
              " 'is',\n",
              " 'a',\n",
              " 'field',\n",
              " 'of',\n",
              " 'Artificial',\n",
              " 'Intelligence',\n",
              " 'that',\n",
              " 'focuses',\n",
              " 'on',\n",
              " 'the',\n",
              " 'interaction',\n",
              " 'between',\n",
              " 'computers',\n",
              " 'and',\n",
              " 'humans',\n",
              " 'using',\n",
              " 'natural',\n",
              " 'language',\n",
              " '.']"
            ]
          },
          "metadata": {},
          "execution_count": 43
        }
      ]
    },
    {
      "cell_type": "code",
      "source": [
        "quotes_bigrams= list(nltk.bigrams(BC_tokens))\n",
        "quotes_bigrams"
      ],
      "metadata": {
        "colab": {
          "base_uri": "https://localhost:8080/"
        },
        "id": "f458NWaGgSHF",
        "outputId": "bc1226b7-045a-40eb-e533-ec09f80ed55c"
      },
      "execution_count": 44,
      "outputs": [
        {
          "output_type": "execute_result",
          "data": {
            "text/plain": [
              "[('Natural', 'Language'),\n",
              " ('Language', 'Processing'),\n",
              " ('Processing', '('),\n",
              " ('(', 'NLP'),\n",
              " ('NLP', ')'),\n",
              " (')', 'is'),\n",
              " ('is', 'a'),\n",
              " ('a', 'field'),\n",
              " ('field', 'of'),\n",
              " ('of', 'Artificial'),\n",
              " ('Artificial', 'Intelligence'),\n",
              " ('Intelligence', 'that'),\n",
              " ('that', 'focuses'),\n",
              " ('focuses', 'on'),\n",
              " ('on', 'the'),\n",
              " ('the', 'interaction'),\n",
              " ('interaction', 'between'),\n",
              " ('between', 'computers'),\n",
              " ('computers', 'and'),\n",
              " ('and', 'humans'),\n",
              " ('humans', 'using'),\n",
              " ('using', 'natural'),\n",
              " ('natural', 'language'),\n",
              " ('language', '.'),\n",
              " ('.', 'It'),\n",
              " ('It', 'enables'),\n",
              " ('enables', 'machines'),\n",
              " ('machines', 'to'),\n",
              " ('to', 'understand'),\n",
              " ('understand', ','),\n",
              " (',', 'interpret'),\n",
              " ('interpret', ','),\n",
              " (',', 'and'),\n",
              " ('and', 'generate'),\n",
              " ('generate', 'human'),\n",
              " ('human', 'language'),\n",
              " ('language', ','),\n",
              " (',', 'making'),\n",
              " ('making', 'it'),\n",
              " ('it', 'possible'),\n",
              " ('possible', 'for'),\n",
              " ('for', 'computers'),\n",
              " ('computers', 'to'),\n",
              " ('to', 'process'),\n",
              " ('process', 'and'),\n",
              " ('and', 'analyze'),\n",
              " ('analyze', 'large'),\n",
              " ('large', 'amounts'),\n",
              " ('amounts', 'of'),\n",
              " ('of', 'natural'),\n",
              " ('natural', 'language'),\n",
              " ('language', 'data'),\n",
              " ('data', '.')]"
            ]
          },
          "metadata": {},
          "execution_count": 44
        }
      ]
    },
    {
      "cell_type": "code",
      "source": [
        "quotes_trigrams = list(nltk.trigrams(BC_tokens))\n",
        "quotes_trigrams"
      ],
      "metadata": {
        "colab": {
          "base_uri": "https://localhost:8080/"
        },
        "id": "cF4_jX_JgbRA",
        "outputId": "a6c5d88f-6952-40ca-92b4-1505bcee31c8"
      },
      "execution_count": 45,
      "outputs": [
        {
          "output_type": "execute_result",
          "data": {
            "text/plain": [
              "[('Natural', 'Language', 'Processing'),\n",
              " ('Language', 'Processing', '('),\n",
              " ('Processing', '(', 'NLP'),\n",
              " ('(', 'NLP', ')'),\n",
              " ('NLP', ')', 'is'),\n",
              " (')', 'is', 'a'),\n",
              " ('is', 'a', 'field'),\n",
              " ('a', 'field', 'of'),\n",
              " ('field', 'of', 'Artificial'),\n",
              " ('of', 'Artificial', 'Intelligence'),\n",
              " ('Artificial', 'Intelligence', 'that'),\n",
              " ('Intelligence', 'that', 'focuses'),\n",
              " ('that', 'focuses', 'on'),\n",
              " ('focuses', 'on', 'the'),\n",
              " ('on', 'the', 'interaction'),\n",
              " ('the', 'interaction', 'between'),\n",
              " ('interaction', 'between', 'computers'),\n",
              " ('between', 'computers', 'and'),\n",
              " ('computers', 'and', 'humans'),\n",
              " ('and', 'humans', 'using'),\n",
              " ('humans', 'using', 'natural'),\n",
              " ('using', 'natural', 'language'),\n",
              " ('natural', 'language', '.'),\n",
              " ('language', '.', 'It'),\n",
              " ('.', 'It', 'enables'),\n",
              " ('It', 'enables', 'machines'),\n",
              " ('enables', 'machines', 'to'),\n",
              " ('machines', 'to', 'understand'),\n",
              " ('to', 'understand', ','),\n",
              " ('understand', ',', 'interpret'),\n",
              " (',', 'interpret', ','),\n",
              " ('interpret', ',', 'and'),\n",
              " (',', 'and', 'generate'),\n",
              " ('and', 'generate', 'human'),\n",
              " ('generate', 'human', 'language'),\n",
              " ('human', 'language', ','),\n",
              " ('language', ',', 'making'),\n",
              " (',', 'making', 'it'),\n",
              " ('making', 'it', 'possible'),\n",
              " ('it', 'possible', 'for'),\n",
              " ('possible', 'for', 'computers'),\n",
              " ('for', 'computers', 'to'),\n",
              " ('computers', 'to', 'process'),\n",
              " ('to', 'process', 'and'),\n",
              " ('process', 'and', 'analyze'),\n",
              " ('and', 'analyze', 'large'),\n",
              " ('analyze', 'large', 'amounts'),\n",
              " ('large', 'amounts', 'of'),\n",
              " ('amounts', 'of', 'natural'),\n",
              " ('of', 'natural', 'language'),\n",
              " ('natural', 'language', 'data'),\n",
              " ('language', 'data', '.')]"
            ]
          },
          "metadata": {},
          "execution_count": 45
        }
      ]
    },
    {
      "cell_type": "code",
      "source": [
        "quotes_ngrams = list(nltk.ngrams(BC_tokens,5))\n",
        "quotes_ngrams"
      ],
      "metadata": {
        "colab": {
          "base_uri": "https://localhost:8080/"
        },
        "id": "f0k23yOygr3h",
        "outputId": "4ac9bb2e-f62f-460c-e9dd-397f00835a77"
      },
      "execution_count": 48,
      "outputs": [
        {
          "output_type": "execute_result",
          "data": {
            "text/plain": [
              "[('Natural', 'Language', 'Processing', '(', 'NLP'),\n",
              " ('Language', 'Processing', '(', 'NLP', ')'),\n",
              " ('Processing', '(', 'NLP', ')', 'is'),\n",
              " ('(', 'NLP', ')', 'is', 'a'),\n",
              " ('NLP', ')', 'is', 'a', 'field'),\n",
              " (')', 'is', 'a', 'field', 'of'),\n",
              " ('is', 'a', 'field', 'of', 'Artificial'),\n",
              " ('a', 'field', 'of', 'Artificial', 'Intelligence'),\n",
              " ('field', 'of', 'Artificial', 'Intelligence', 'that'),\n",
              " ('of', 'Artificial', 'Intelligence', 'that', 'focuses'),\n",
              " ('Artificial', 'Intelligence', 'that', 'focuses', 'on'),\n",
              " ('Intelligence', 'that', 'focuses', 'on', 'the'),\n",
              " ('that', 'focuses', 'on', 'the', 'interaction'),\n",
              " ('focuses', 'on', 'the', 'interaction', 'between'),\n",
              " ('on', 'the', 'interaction', 'between', 'computers'),\n",
              " ('the', 'interaction', 'between', 'computers', 'and'),\n",
              " ('interaction', 'between', 'computers', 'and', 'humans'),\n",
              " ('between', 'computers', 'and', 'humans', 'using'),\n",
              " ('computers', 'and', 'humans', 'using', 'natural'),\n",
              " ('and', 'humans', 'using', 'natural', 'language'),\n",
              " ('humans', 'using', 'natural', 'language', '.'),\n",
              " ('using', 'natural', 'language', '.', 'It'),\n",
              " ('natural', 'language', '.', 'It', 'enables'),\n",
              " ('language', '.', 'It', 'enables', 'machines'),\n",
              " ('.', 'It', 'enables', 'machines', 'to'),\n",
              " ('It', 'enables', 'machines', 'to', 'understand'),\n",
              " ('enables', 'machines', 'to', 'understand', ','),\n",
              " ('machines', 'to', 'understand', ',', 'interpret'),\n",
              " ('to', 'understand', ',', 'interpret', ','),\n",
              " ('understand', ',', 'interpret', ',', 'and'),\n",
              " (',', 'interpret', ',', 'and', 'generate'),\n",
              " ('interpret', ',', 'and', 'generate', 'human'),\n",
              " (',', 'and', 'generate', 'human', 'language'),\n",
              " ('and', 'generate', 'human', 'language', ','),\n",
              " ('generate', 'human', 'language', ',', 'making'),\n",
              " ('human', 'language', ',', 'making', 'it'),\n",
              " ('language', ',', 'making', 'it', 'possible'),\n",
              " (',', 'making', 'it', 'possible', 'for'),\n",
              " ('making', 'it', 'possible', 'for', 'computers'),\n",
              " ('it', 'possible', 'for', 'computers', 'to'),\n",
              " ('possible', 'for', 'computers', 'to', 'process'),\n",
              " ('for', 'computers', 'to', 'process', 'and'),\n",
              " ('computers', 'to', 'process', 'and', 'analyze'),\n",
              " ('to', 'process', 'and', 'analyze', 'large'),\n",
              " ('process', 'and', 'analyze', 'large', 'amounts'),\n",
              " ('and', 'analyze', 'large', 'amounts', 'of'),\n",
              " ('analyze', 'large', 'amounts', 'of', 'natural'),\n",
              " ('large', 'amounts', 'of', 'natural', 'language'),\n",
              " ('amounts', 'of', 'natural', 'language', 'data'),\n",
              " ('of', 'natural', 'language', 'data', '.')]"
            ]
          },
          "metadata": {},
          "execution_count": 48
        }
      ]
    },
    {
      "cell_type": "code",
      "source": [
        "from nltk.stem import PorterStemmer\n",
        "pst = PorterStemmer()"
      ],
      "metadata": {
        "id": "QYBkr-LGhk8n"
      },
      "execution_count": 49,
      "outputs": []
    },
    {
      "cell_type": "code",
      "source": [
        "pst.stem(\"Sleeping\")"
      ],
      "metadata": {
        "colab": {
          "base_uri": "https://localhost:8080/",
          "height": 36
        },
        "id": "Cikzqp6Jhthp",
        "outputId": "67591e39-d555-46e8-fc13-aa3c0188cd51"
      },
      "execution_count": 50,
      "outputs": [
        {
          "output_type": "execute_result",
          "data": {
            "text/plain": [
              "'sleep'"
            ],
            "application/vnd.google.colaboratory.intrinsic+json": {
              "type": "string"
            }
          },
          "metadata": {},
          "execution_count": 50
        }
      ]
    },
    {
      "cell_type": "code",
      "source": [
        "word_to_stem =[\"having\",\"have\",\"had\"]\n",
        "for words in word_to_stem:\n",
        "    print(words + \":\" + pst.stem(words))"
      ],
      "metadata": {
        "colab": {
          "base_uri": "https://localhost:8080/"
        },
        "id": "LAqEHdcAh7sf",
        "outputId": "79e528b4-12d5-4e63-8ab4-5280e4dd1cca"
      },
      "execution_count": 52,
      "outputs": [
        {
          "output_type": "stream",
          "name": "stdout",
          "text": [
            "having:have\n",
            "have:have\n",
            "had:had\n"
          ]
        }
      ]
    },
    {
      "cell_type": "code",
      "source": [
        "from nltk.stem import LancasterStemmer\n",
        "lst = LancasterStemmer()\n",
        "for words in word_to_stem:\n",
        "    print(words + \":\" + lst.stem(words))"
      ],
      "metadata": {
        "colab": {
          "base_uri": "https://localhost:8080/"
        },
        "id": "WhhOCMWRiVrP",
        "outputId": "de1a34a0-1a5f-4428-cbde-f8100a1047f5"
      },
      "execution_count": 54,
      "outputs": [
        {
          "output_type": "stream",
          "name": "stdout",
          "text": [
            "having:hav\n",
            "have:hav\n",
            "had:had\n"
          ]
        }
      ]
    },
    {
      "cell_type": "code",
      "source": [
        "from nltk.stem import SnowballStemmer\n",
        "sbst = SnowballStemmer('english')\n",
        "for words in word_to_stem:\n",
        "    print(words + \":\" + sbst.stem(words))"
      ],
      "metadata": {
        "colab": {
          "base_uri": "https://localhost:8080/"
        },
        "id": "G3KTLX5bi61D",
        "outputId": "b2bf963b-808c-4f2b-c816-1ed12621e08f"
      },
      "execution_count": 55,
      "outputs": [
        {
          "output_type": "stream",
          "name": "stdout",
          "text": [
            "having:have\n",
            "have:have\n",
            "had:had\n"
          ]
        }
      ]
    },
    {
      "cell_type": "code",
      "source": [
        "def stemms(word):\n",
        "    print( \"Porter\" + pst.stem(word))\n",
        "    print( \"Lancaster\" + lst.stem(word))\n",
        "    print( \"Snowball\" + sbst.stem(word))"
      ],
      "metadata": {
        "id": "lECUkurcjM62"
      },
      "execution_count": 56,
      "outputs": []
    },
    {
      "cell_type": "code",
      "source": [
        "stemms('data')"
      ],
      "metadata": {
        "colab": {
          "base_uri": "https://localhost:8080/"
        },
        "id": "0Wx7XvBRjjrC",
        "outputId": "2e689f17-3483-488c-8803-30c04caf5ee6"
      },
      "execution_count": 57,
      "outputs": [
        {
          "output_type": "stream",
          "name": "stdout",
          "text": [
            "Porterdata\n",
            "Lancasterdat\n",
            "Snowballdata\n"
          ]
        }
      ]
    },
    {
      "cell_type": "code",
      "source": [
        "stemms('curricula')"
      ],
      "metadata": {
        "colab": {
          "base_uri": "https://localhost:8080/"
        },
        "id": "O0sg5uYsj4oU",
        "outputId": "39e74c05-27c2-4bd8-ecd2-f8cbf1d90793"
      },
      "execution_count": 58,
      "outputs": [
        {
          "output_type": "stream",
          "name": "stdout",
          "text": [
            "Portercurricula\n",
            "Lancastercurricul\n",
            "Snowballcurricula\n"
          ]
        }
      ]
    },
    {
      "cell_type": "code",
      "source": [
        "from nltk.stem import wordnet\n",
        "from nltk.stem import WordNetLemmatizer\n",
        "import nltk\n",
        "nltk.download('wordnet')\n"
      ],
      "metadata": {
        "colab": {
          "base_uri": "https://localhost:8080/"
        },
        "id": "nkogCvs6kCN_",
        "outputId": "dd71f8f7-6b32-4b48-92ca-56786127085d"
      },
      "execution_count": 59,
      "outputs": [
        {
          "output_type": "stream",
          "name": "stderr",
          "text": [
            "[nltk_data] Downloading package wordnet to /root/nltk_data...\n",
            "[nltk_data]   Package wordnet is already up-to-date!\n"
          ]
        },
        {
          "output_type": "execute_result",
          "data": {
            "text/plain": [
              "True"
            ]
          },
          "metadata": {},
          "execution_count": 59
        }
      ]
    },
    {
      "cell_type": "code",
      "source": [
        "word_lem = WordNetLemmatizer()"
      ],
      "metadata": {
        "id": "OYAAbzkokPE4"
      },
      "execution_count": 60,
      "outputs": []
    },
    {
      "cell_type": "code",
      "source": [
        "word_lem.lemmatize('geese')"
      ],
      "metadata": {
        "colab": {
          "base_uri": "https://localhost:8080/",
          "height": 36
        },
        "id": "c8ZDlFiFkWUj",
        "outputId": "dfadf210-a399-4adf-eb10-3269ad7c6aa1"
      },
      "execution_count": 61,
      "outputs": [
        {
          "output_type": "execute_result",
          "data": {
            "text/plain": [
              "'goose'"
            ],
            "application/vnd.google.colaboratory.intrinsic+json": {
              "type": "string"
            }
          },
          "metadata": {},
          "execution_count": 61
        }
      ]
    },
    {
      "cell_type": "code",
      "source": [
        "for words in word_to_stem:\n",
        "    print(words + \":\" + word_lem.lemmatize(words))"
      ],
      "metadata": {
        "colab": {
          "base_uri": "https://localhost:8080/"
        },
        "id": "aCN1TuPOkoS7",
        "outputId": "0b5e7f33-4c8e-4e9b-cbb5-4a62071401a4"
      },
      "execution_count": 64,
      "outputs": [
        {
          "output_type": "stream",
          "name": "stdout",
          "text": [
            "having:having\n",
            "have:have\n",
            "had:had\n"
          ]
        }
      ]
    },
    {
      "cell_type": "code",
      "source": [
        "from nltk.corpus import stopwords\n",
        "nltk.download('stopwords')"
      ],
      "metadata": {
        "colab": {
          "base_uri": "https://localhost:8080/"
        },
        "id": "8cTXdGshlR31",
        "outputId": "6f12b363-8009-4592-f538-e947d3ad5a1e"
      },
      "execution_count": 65,
      "outputs": [
        {
          "output_type": "stream",
          "name": "stderr",
          "text": [
            "[nltk_data] Downloading package stopwords to /root/nltk_data...\n",
            "[nltk_data]   Package stopwords is already up-to-date!\n"
          ]
        },
        {
          "output_type": "execute_result",
          "data": {
            "text/plain": [
              "True"
            ]
          },
          "metadata": {},
          "execution_count": 65
        }
      ]
    },
    {
      "cell_type": "code",
      "source": [
        "sw=stopwords.words('english')\n",
        "sw"
      ],
      "metadata": {
        "colab": {
          "base_uri": "https://localhost:8080/"
        },
        "id": "gNQscCxJlZOw",
        "outputId": "b8e3cadb-e13d-4253-f8e9-90096d2f0229"
      },
      "execution_count": 67,
      "outputs": [
        {
          "output_type": "execute_result",
          "data": {
            "text/plain": [
              "['i',\n",
              " 'me',\n",
              " 'my',\n",
              " 'myself',\n",
              " 'we',\n",
              " 'our',\n",
              " 'ours',\n",
              " 'ourselves',\n",
              " 'you',\n",
              " \"you're\",\n",
              " \"you've\",\n",
              " \"you'll\",\n",
              " \"you'd\",\n",
              " 'your',\n",
              " 'yours',\n",
              " 'yourself',\n",
              " 'yourselves',\n",
              " 'he',\n",
              " 'him',\n",
              " 'his',\n",
              " 'himself',\n",
              " 'she',\n",
              " \"she's\",\n",
              " 'her',\n",
              " 'hers',\n",
              " 'herself',\n",
              " 'it',\n",
              " \"it's\",\n",
              " 'its',\n",
              " 'itself',\n",
              " 'they',\n",
              " 'them',\n",
              " 'their',\n",
              " 'theirs',\n",
              " 'themselves',\n",
              " 'what',\n",
              " 'which',\n",
              " 'who',\n",
              " 'whom',\n",
              " 'this',\n",
              " 'that',\n",
              " \"that'll\",\n",
              " 'these',\n",
              " 'those',\n",
              " 'am',\n",
              " 'is',\n",
              " 'are',\n",
              " 'was',\n",
              " 'were',\n",
              " 'be',\n",
              " 'been',\n",
              " 'being',\n",
              " 'have',\n",
              " 'has',\n",
              " 'had',\n",
              " 'having',\n",
              " 'do',\n",
              " 'does',\n",
              " 'did',\n",
              " 'doing',\n",
              " 'a',\n",
              " 'an',\n",
              " 'the',\n",
              " 'and',\n",
              " 'but',\n",
              " 'if',\n",
              " 'or',\n",
              " 'because',\n",
              " 'as',\n",
              " 'until',\n",
              " 'while',\n",
              " 'of',\n",
              " 'at',\n",
              " 'by',\n",
              " 'for',\n",
              " 'with',\n",
              " 'about',\n",
              " 'against',\n",
              " 'between',\n",
              " 'into',\n",
              " 'through',\n",
              " 'during',\n",
              " 'before',\n",
              " 'after',\n",
              " 'above',\n",
              " 'below',\n",
              " 'to',\n",
              " 'from',\n",
              " 'up',\n",
              " 'down',\n",
              " 'in',\n",
              " 'out',\n",
              " 'on',\n",
              " 'off',\n",
              " 'over',\n",
              " 'under',\n",
              " 'again',\n",
              " 'further',\n",
              " 'then',\n",
              " 'once',\n",
              " 'here',\n",
              " 'there',\n",
              " 'when',\n",
              " 'where',\n",
              " 'why',\n",
              " 'how',\n",
              " 'all',\n",
              " 'any',\n",
              " 'both',\n",
              " 'each',\n",
              " 'few',\n",
              " 'more',\n",
              " 'most',\n",
              " 'other',\n",
              " 'some',\n",
              " 'such',\n",
              " 'no',\n",
              " 'nor',\n",
              " 'not',\n",
              " 'only',\n",
              " 'own',\n",
              " 'same',\n",
              " 'so',\n",
              " 'than',\n",
              " 'too',\n",
              " 'very',\n",
              " 's',\n",
              " 't',\n",
              " 'can',\n",
              " 'will',\n",
              " 'just',\n",
              " 'don',\n",
              " \"don't\",\n",
              " 'should',\n",
              " \"should've\",\n",
              " 'now',\n",
              " 'd',\n",
              " 'll',\n",
              " 'm',\n",
              " 'o',\n",
              " 're',\n",
              " 've',\n",
              " 'y',\n",
              " 'ain',\n",
              " 'aren',\n",
              " \"aren't\",\n",
              " 'couldn',\n",
              " \"couldn't\",\n",
              " 'didn',\n",
              " \"didn't\",\n",
              " 'doesn',\n",
              " \"doesn't\",\n",
              " 'hadn',\n",
              " \"hadn't\",\n",
              " 'hasn',\n",
              " \"hasn't\",\n",
              " 'haven',\n",
              " \"haven't\",\n",
              " 'isn',\n",
              " \"isn't\",\n",
              " 'ma',\n",
              " 'mightn',\n",
              " \"mightn't\",\n",
              " 'mustn',\n",
              " \"mustn't\",\n",
              " 'needn',\n",
              " \"needn't\",\n",
              " 'shan',\n",
              " \"shan't\",\n",
              " 'shouldn',\n",
              " \"shouldn't\",\n",
              " 'wasn',\n",
              " \"wasn't\",\n",
              " 'weren',\n",
              " \"weren't\",\n",
              " 'won',\n",
              " \"won't\",\n",
              " 'wouldn',\n",
              " \"wouldn't\"]"
            ]
          },
          "metadata": {},
          "execution_count": 67
        }
      ]
    },
    {
      "cell_type": "code",
      "source": [
        "len(sw)"
      ],
      "metadata": {
        "colab": {
          "base_uri": "https://localhost:8080/"
        },
        "id": "AUYmM5bullUJ",
        "outputId": "9e91764f-d40a-4fb6-a93f-b80e6b9fd8b9"
      },
      "execution_count": 68,
      "outputs": [
        {
          "output_type": "execute_result",
          "data": {
            "text/plain": [
              "179"
            ]
          },
          "metadata": {},
          "execution_count": 68
        }
      ]
    },
    {
      "cell_type": "code",
      "source": [
        "fdist_top10"
      ],
      "metadata": {
        "colab": {
          "base_uri": "https://localhost:8080/"
        },
        "id": "IiB3Lc41lqT8",
        "outputId": "fec41191-3e55-4d17-f383-c7c61fa932fb"
      },
      "execution_count": 69,
      "outputs": [
        {
          "output_type": "execute_result",
          "data": {
            "text/plain": [
              "[('language', 4),\n",
              " ('natural', 3),\n",
              " ('and', 3),\n",
              " (',', 3),\n",
              " ('of', 2),\n",
              " ('computers', 2),\n",
              " ('.', 2),\n",
              " ('it', 2),\n",
              " ('to', 2),\n",
              " ('processing', 1)]"
            ]
          },
          "metadata": {},
          "execution_count": 69
        }
      ]
    },
    {
      "cell_type": "code",
      "source": [
        "sent = \"James is the very good person he is working has a doctor in the hospital.\"\n",
        "sent_tokens = word_tokenize(sent)\n",
        "sent_tokens"
      ],
      "metadata": {
        "colab": {
          "base_uri": "https://localhost:8080/"
        },
        "id": "04hv8dXCluOT",
        "outputId": "968ec3c8-82f1-4d87-cbd6-fdd9012587a9"
      },
      "execution_count": 71,
      "outputs": [
        {
          "output_type": "execute_result",
          "data": {
            "text/plain": [
              "['James',\n",
              " 'is',\n",
              " 'the',\n",
              " 'very',\n",
              " 'good',\n",
              " 'person',\n",
              " 'he',\n",
              " 'is',\n",
              " 'working',\n",
              " 'has',\n",
              " 'a',\n",
              " 'doctor',\n",
              " 'in',\n",
              " 'the',\n",
              " 'hospital',\n",
              " '.']"
            ]
          },
          "metadata": {},
          "execution_count": 71
        }
      ]
    },
    {
      "cell_type": "code",
      "source": [
        "for tokens in sent_tokens:\n",
        "   print(nltk.pos_tag([tokens]))"
      ],
      "metadata": {
        "colab": {
          "base_uri": "https://localhost:8080/"
        },
        "id": "3KM58V5jl772",
        "outputId": "6b11457b-079b-4100-8534-56fb45e7e7c2"
      },
      "execution_count": 72,
      "outputs": [
        {
          "output_type": "stream",
          "name": "stdout",
          "text": [
            "[('James', 'NNP')]\n",
            "[('is', 'VBZ')]\n",
            "[('the', 'DT')]\n",
            "[('very', 'RB')]\n",
            "[('good', 'JJ')]\n",
            "[('person', 'NN')]\n",
            "[('he', 'PRP')]\n",
            "[('is', 'VBZ')]\n",
            "[('working', 'VBG')]\n",
            "[('has', 'VBZ')]\n",
            "[('a', 'DT')]\n",
            "[('doctor', 'NN')]\n",
            "[('in', 'IN')]\n",
            "[('the', 'DT')]\n",
            "[('hospital', 'NN')]\n",
            "[('.', '.')]\n"
          ]
        }
      ]
    },
    {
      "cell_type": "code",
      "source": [
        "sent2 = \"i would like to place in a very good company.\"\n",
        "sent2_tokens = word_tokenize(sent)\n",
        "sent2_tokens"
      ],
      "metadata": {
        "colab": {
          "base_uri": "https://localhost:8080/"
        },
        "id": "MZibHs-CmLTB",
        "outputId": "2a77bec2-ad94-47d7-a941-3d952738ee30"
      },
      "execution_count": 73,
      "outputs": [
        {
          "output_type": "execute_result",
          "data": {
            "text/plain": [
              "['James',\n",
              " 'is',\n",
              " 'the',\n",
              " 'very',\n",
              " 'good',\n",
              " 'person',\n",
              " 'he',\n",
              " 'is',\n",
              " 'working',\n",
              " 'has',\n",
              " 'a',\n",
              " 'doctor',\n",
              " 'in',\n",
              " 'the',\n",
              " 'hospital',\n",
              " '.']"
            ]
          },
          "metadata": {},
          "execution_count": 73
        }
      ]
    },
    {
      "cell_type": "code",
      "source": [
        "for tokens in sent2_tokens:\n",
        "   print(nltk.pos_tag([tokens]))"
      ],
      "metadata": {
        "colab": {
          "base_uri": "https://localhost:8080/"
        },
        "id": "lm03qQhNmbqP",
        "outputId": "25dc2e6a-ead1-4dc2-d5a7-e60db9014211"
      },
      "execution_count": 74,
      "outputs": [
        {
          "output_type": "stream",
          "name": "stdout",
          "text": [
            "[('James', 'NNP')]\n",
            "[('is', 'VBZ')]\n",
            "[('the', 'DT')]\n",
            "[('very', 'RB')]\n",
            "[('good', 'JJ')]\n",
            "[('person', 'NN')]\n",
            "[('he', 'PRP')]\n",
            "[('is', 'VBZ')]\n",
            "[('working', 'VBG')]\n",
            "[('has', 'VBZ')]\n",
            "[('a', 'DT')]\n",
            "[('doctor', 'NN')]\n",
            "[('in', 'IN')]\n",
            "[('the', 'DT')]\n",
            "[('hospital', 'NN')]\n",
            "[('.', '.')]\n"
          ]
        }
      ]
    },
    {
      "cell_type": "code",
      "source": [
        "from nltk import ne_chunk"
      ],
      "metadata": {
        "id": "oMgLQHXZmmxT"
      },
      "execution_count": 75,
      "outputs": []
    },
    {
      "cell_type": "code",
      "source": [
        "NE_sent = \"this is an apple, it tastes sweet aned sour.\""
      ],
      "metadata": {
        "id": "C4F1E1Vimw_g"
      },
      "execution_count": 76,
      "outputs": []
    },
    {
      "cell_type": "code",
      "source": [
        "NE_tokens = word_tokenize(NE_sent)"
      ],
      "metadata": {
        "id": "3IwW9x_bm8JG"
      },
      "execution_count": 77,
      "outputs": []
    },
    {
      "cell_type": "code",
      "source": [
        "NE_tags = nltk.pos_tag(NE_tokens)\n",
        "NE_tags"
      ],
      "metadata": {
        "colab": {
          "base_uri": "https://localhost:8080/"
        },
        "id": "O7Ra5BsGnRts",
        "outputId": "639a8bca-6536-4b73-9099-7f941b09da66"
      },
      "execution_count": 78,
      "outputs": [
        {
          "output_type": "execute_result",
          "data": {
            "text/plain": [
              "[('this', 'DT'),\n",
              " ('is', 'VBZ'),\n",
              " ('an', 'DT'),\n",
              " ('apple', 'NN'),\n",
              " (',', ','),\n",
              " ('it', 'PRP'),\n",
              " ('tastes', 'VBZ'),\n",
              " ('sweet', 'JJ'),\n",
              " ('aned', 'VBD'),\n",
              " ('sour', 'JJ'),\n",
              " ('.', '.')]"
            ]
          },
          "metadata": {},
          "execution_count": 78
        }
      ]
    },
    {
      "cell_type": "code",
      "source": [
        "NE_NER = ne_chunk(NE_tags)\n",
        "print(NE_NER)"
      ],
      "metadata": {
        "colab": {
          "base_uri": "https://localhost:8080/"
        },
        "id": "g1b8SSK1npg1",
        "outputId": "9c33defa-83ed-42a6-eac8-f8978b37bfd8"
      },
      "execution_count": 79,
      "outputs": [
        {
          "output_type": "stream",
          "name": "stdout",
          "text": [
            "(S\n",
            "  this/DT\n",
            "  is/VBZ\n",
            "  an/DT\n",
            "  apple/NN\n",
            "  ,/,\n",
            "  it/PRP\n",
            "  tastes/VBZ\n",
            "  sweet/JJ\n",
            "  aned/VBD\n",
            "  sour/JJ\n",
            "  ./.)\n"
          ]
        }
      ]
    },
    {
      "cell_type": "code",
      "source": [
        "new = \"The quick brown fox jumps over the lazy dog\"\n",
        "new_tokens = nltk.pos_tag(word_tokenize(new))\n",
        "new_tokens"
      ],
      "metadata": {
        "colab": {
          "base_uri": "https://localhost:8080/"
        },
        "id": "BOHXo8eJnvr3",
        "outputId": "919b0209-70e4-46bd-b429-cb1faa529b38"
      },
      "execution_count": 80,
      "outputs": [
        {
          "output_type": "execute_result",
          "data": {
            "text/plain": [
              "[('The', 'DT'),\n",
              " ('quick', 'JJ'),\n",
              " ('brown', 'NN'),\n",
              " ('fox', 'NN'),\n",
              " ('jumps', 'VBZ'),\n",
              " ('over', 'IN'),\n",
              " ('the', 'DT'),\n",
              " ('lazy', 'JJ'),\n",
              " ('dog', 'NN')]"
            ]
          },
          "metadata": {},
          "execution_count": 80
        }
      ]
    },
    {
      "cell_type": "code",
      "source": [
        "frammar_np = r\"NP: {<DT>?<JJ>*<NN>}\"\n",
        "chunkParser = nltk.RegexpParser(frammar_np)\n",
        "tree = chunkParser.parse(new_tokens)\n",
        "print(tree)"
      ],
      "metadata": {
        "colab": {
          "base_uri": "https://localhost:8080/"
        },
        "id": "mFyjOnw5ojs3",
        "outputId": "d522fd70-21be-4b77-eb6a-8a924d2404d4"
      },
      "execution_count": 82,
      "outputs": [
        {
          "output_type": "stream",
          "name": "stdout",
          "text": [
            "(S\n",
            "  (NP The/DT quick/JJ brown/NN)\n",
            "  (NP fox/NN)\n",
            "  jumps/VBZ\n",
            "  over/IN\n",
            "  (NP the/DT lazy/JJ dog/NN))\n"
          ]
        }
      ]
    }
  ]
}