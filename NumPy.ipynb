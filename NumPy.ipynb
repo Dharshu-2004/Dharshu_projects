{
  "nbformat": 4,
  "nbformat_minor": 0,
  "metadata": {
    "colab": {
      "provenance": [],
      "toc_visible": true
    },
    "kernelspec": {
      "name": "python3",
      "display_name": "Python 3"
    },
    "language_info": {
      "name": "python"
    }
  },
  "cells": [
    {
      "cell_type": "code",
      "source": [
        "import numpy as np"
      ],
      "metadata": {
        "id": "IVhiglnat9SK"
      },
      "execution_count": null,
      "outputs": []
    },
    {
      "cell_type": "markdown",
      "source": [
        "**Basics of Numpy:**\n",
        "\n",
        "1. Attributes of Array\n",
        "2. Slicing of Array\n",
        "3. Indexing of Array\n",
        "4. Reshaping of Array\n",
        "5. Joining and splitting of Array"
      ],
      "metadata": {
        "id": "Ac7AM-S3WBSW"
      }
    },
    {
      "cell_type": "code",
      "source": [
        "dim_1 = np.array([1,2,3,4,5,6,7,8,9])\n",
        "print(dim_1)"
      ],
      "metadata": {
        "id": "ejWUfWKdSeV6"
      },
      "execution_count": null,
      "outputs": []
    },
    {
      "cell_type": "code",
      "source": [
        "dim_2=np.array([[1,2,3],[4,5,6],[7,8,9]])\n",
        "dim_2"
      ],
      "metadata": {
        "id": "hT6kBs7uSuh5"
      },
      "execution_count": null,
      "outputs": []
    },
    {
      "cell_type": "code",
      "source": [
        "dim_3 = np.array([[[1,2,3],[1,2,3]]])\n",
        "dim_3"
      ],
      "metadata": {
        "id": "SxQCaMW7S5MT"
      },
      "execution_count": null,
      "outputs": []
    },
    {
      "cell_type": "markdown",
      "source": [
        "**Attributes of Array:**"
      ],
      "metadata": {
        "id": "BXXs98YiTNro"
      }
    },
    {
      "cell_type": "code",
      "source": [
        "x=np.arange(10);\n",
        "print(x)"
      ],
      "metadata": {
        "id": "TDs8vaLaTR0w"
      },
      "execution_count": null,
      "outputs": []
    },
    {
      "cell_type": "code",
      "source": [
        "x.shape"
      ],
      "metadata": {
        "id": "WhBsr4BqTbwV"
      },
      "execution_count": null,
      "outputs": []
    },
    {
      "cell_type": "code",
      "source": [
        "x.ndim"
      ],
      "metadata": {
        "id": "AfguEkruThiM"
      },
      "execution_count": null,
      "outputs": []
    },
    {
      "cell_type": "code",
      "source": [
        "x.size"
      ],
      "metadata": {
        "id": "MnMAcZ5gTmKt"
      },
      "execution_count": null,
      "outputs": []
    },
    {
      "cell_type": "code",
      "source": [
        "x.dtype"
      ],
      "metadata": {
        "id": "tvdh7WtWTpvG"
      },
      "execution_count": null,
      "outputs": []
    },
    {
      "cell_type": "markdown",
      "source": [
        "**Slicing of Array:**"
      ],
      "metadata": {
        "id": "s_gZm2KVUQVt"
      }
    },
    {
      "cell_type": "code",
      "source": [
        "y=np.arange(10)\n",
        "y"
      ],
      "metadata": {
        "id": "uk26sh23UWVu"
      },
      "execution_count": null,
      "outputs": []
    },
    {
      "cell_type": "code",
      "source": [
        "\n",
        "x[1:5]"
      ],
      "metadata": {
        "id": "5-2reMbCUwSc"
      },
      "execution_count": null,
      "outputs": []
    },
    {
      "cell_type": "code",
      "source": [
        "x[ :5]"
      ],
      "metadata": {
        "id": "oOJQRfO5U-OQ"
      },
      "execution_count": null,
      "outputs": []
    },
    {
      "cell_type": "code",
      "source": [
        "x[5:]"
      ],
      "metadata": {
        "id": "mNU_rxNuVAyP"
      },
      "execution_count": null,
      "outputs": []
    },
    {
      "cell_type": "code",
      "source": [
        "x[ : ]"
      ],
      "metadata": {
        "id": "J1xQGJYzVEwn"
      },
      "execution_count": null,
      "outputs": []
    },
    {
      "cell_type": "markdown",
      "source": [
        "**Indexing of Array:**"
      ],
      "metadata": {
        "id": "q9z59VarW3jL"
      }
    },
    {
      "cell_type": "code",
      "source": [
        "z=np.array([1,2,3,4,5,6,7,8,9])\n",
        "z"
      ],
      "metadata": {
        "id": "O8o9QXyCXG7I"
      },
      "execution_count": null,
      "outputs": []
    },
    {
      "cell_type": "code",
      "source": [
        "z[-1]"
      ],
      "metadata": {
        "id": "JTjOQCBRXSjJ"
      },
      "execution_count": null,
      "outputs": []
    },
    {
      "cell_type": "code",
      "source": [
        "z[1]"
      ],
      "metadata": {
        "id": "-3G-7uKUXVOe"
      },
      "execution_count": null,
      "outputs": []
    },
    {
      "cell_type": "code",
      "source": [
        "z[0]"
      ],
      "metadata": {
        "id": "D-pL3g2fXYRE"
      },
      "execution_count": null,
      "outputs": []
    },
    {
      "cell_type": "code",
      "source": [
        "z[6]"
      ],
      "metadata": {
        "id": "zIdtQOHhXZ8g"
      },
      "execution_count": null,
      "outputs": []
    },
    {
      "cell_type": "markdown",
      "source": [
        "**Reshaping of Array:**"
      ],
      "metadata": {
        "id": "xEyJgM3kXiiJ"
      }
    },
    {
      "cell_type": "code",
      "source": [
        "a=np.arange(9)\n",
        "a"
      ],
      "metadata": {
        "id": "471Jg_C5Xuwd"
      },
      "execution_count": null,
      "outputs": []
    },
    {
      "cell_type": "code",
      "source": [
        "a.reshape((3,3))"
      ],
      "metadata": {
        "id": "GKU0hwv2YLqH"
      },
      "execution_count": null,
      "outputs": []
    },
    {
      "cell_type": "code",
      "source": [
        "aa=np.array([1,2,3,4])\n",
        "aa"
      ],
      "metadata": {
        "id": "ejrPzCe0YWPs"
      },
      "execution_count": null,
      "outputs": []
    },
    {
      "cell_type": "code",
      "source": [
        "aa.reshape((4,1))"
      ],
      "metadata": {
        "id": "f9SjkAJWYa3w"
      },
      "execution_count": null,
      "outputs": []
    },
    {
      "cell_type": "markdown",
      "source": [
        "**Joining or Cantenation:**"
      ],
      "metadata": {
        "id": "DtDmF18_Ym4k"
      }
    },
    {
      "cell_type": "code",
      "source": [
        "x=np.array([1,2,3,4,5])\n",
        "y=np.array([6,7,8,9,10])\n",
        "np.concatenate([x,y])"
      ],
      "metadata": {
        "id": "nZJlUAW5Yun7"
      },
      "execution_count": null,
      "outputs": []
    },
    {
      "cell_type": "code",
      "source": [
        "np.concatenate([x,x])"
      ],
      "metadata": {
        "id": "6DWfD_UgY-yL"
      },
      "execution_count": null,
      "outputs": []
    },
    {
      "cell_type": "markdown",
      "source": [
        "**Spliting of Array:**"
      ],
      "metadata": {
        "id": "1zBgV5LCZFDF"
      }
    },
    {
      "cell_type": "code",
      "source": [
        "x=np.arange(16)\n",
        "x.reshape([4,4])"
      ],
      "metadata": {
        "colab": {
          "base_uri": "https://localhost:8080/"
        },
        "id": "1hxGZ4YlbMKg",
        "outputId": "c2a1bcbf-c051-41ca-bc75-3ae1ea7ad345"
      },
      "execution_count": null,
      "outputs": [
        {
          "output_type": "execute_result",
          "data": {
            "text/plain": [
              "array([[ 0,  1,  2,  3],\n",
              "       [ 4,  5,  6,  7],\n",
              "       [ 8,  9, 10, 11],\n",
              "       [12, 13, 14, 15]])"
            ]
          },
          "metadata": {},
          "execution_count": 34
        }
      ]
    },
    {
      "cell_type": "code",
      "source": [
        "x = np.arange(16)\n",
        "x = x.reshape([4, 4])  # Reshape into a 4x4 array\n",
        "u, l = np.vsplit(x, [2])  # Vertically split after the second row\n",
        "\n",
        "print(\"Upper part:\\n\", u)\n",
        "print(\"Lower part:\\n\", l)\n"
      ],
      "metadata": {
        "id": "KFOSOYONbaXb"
      },
      "execution_count": null,
      "outputs": []
    },
    {
      "cell_type": "code",
      "source": [
        "x = np.arange(16)\n",
        "x = x.reshape([4, 4])  # Reshape into a 4x4 array\n",
        "u, l = np.hsplit(x, [2])  # Vertically split after the second row\n",
        "\n",
        "print(\"Left part:\\n\", u)\n",
        "print(\"Right part:\\n\", l)"
      ],
      "metadata": {
        "id": "eBxPmMq5duKf"
      },
      "execution_count": null,
      "outputs": []
    },
    {
      "cell_type": "markdown",
      "source": [
        "**Aggregation Function.**"
      ],
      "metadata": {
        "id": "A-5WwZa4EU8-"
      }
    },
    {
      "cell_type": "code",
      "source": [
        "x= np.arange(5)\n",
        "print(\"the sum: \",np.sum(x))\n",
        "print(\"the product:\", np.prod(x))\n",
        "print(\"the mean:\",np.mean(x))\n",
        "print(\"the median:\",np.median(x))\n",
        "print(\"the standard Deviation\", np.std(x))\n",
        "print(\"the minimum value:\", np.min(x))\n",
        "print(\"the maximum value:\", np.max(x))\n",
        "print(\"the index of minimum value:\", np.argmin(x))\n",
        "print(\"the index of maximum value:\", np.argmax(x))\n",
        "\n"
      ],
      "metadata": {
        "id": "2nyBYJCoEcSW"
      },
      "execution_count": null,
      "outputs": []
    },
    {
      "cell_type": "markdown",
      "source": [
        "**Working with Matrix:**"
      ],
      "metadata": {
        "id": "1t4o8prmFt_u"
      }
    },
    {
      "cell_type": "code",
      "source": [
        "#Matrix Addition:\n",
        "x=np.array([1,2,3,5])\n",
        "y=np.array([4,5,6,7])\n",
        "print(x+y)"
      ],
      "metadata": {
        "id": "WqxXRonKFzT7"
      },
      "execution_count": null,
      "outputs": []
    },
    {
      "cell_type": "code",
      "source": [
        "#MAtrix Multiplication:\n",
        "x=np.array([1,2,3,5])\n",
        "y=np.array([4,5,6,7])\n",
        "print(x*y)"
      ],
      "metadata": {
        "id": "HKtFU46bGBUo"
      },
      "execution_count": null,
      "outputs": []
    },
    {
      "cell_type": "code",
      "source": [
        "#Scalar Multiplication:\n",
        "x=np.array([1,2,3,5])\n",
        "y=np.array([4,5,6,7])\n",
        "print(2*x)"
      ],
      "metadata": {
        "id": "V7iCSyQeGJOB"
      },
      "execution_count": null,
      "outputs": []
    },
    {
      "cell_type": "code",
      "source": [
        "#Transpose of Matrix\n",
        "x=np.array([[1,2,3,5],[6,7,8,9]])\n",
        "print(x.T)\n"
      ],
      "metadata": {
        "id": "GM7AN0KaGQkW"
      },
      "execution_count": null,
      "outputs": []
    },
    {
      "cell_type": "code",
      "source": [
        "#Stacking of Matrix:\n",
        "x=np.array([1,2,3,5])\n",
        "y=np.array([4,5,6,7])\n",
        "print(np.vstack([x,y]))\n",
        "print(np.hstack([x,y]))"
      ],
      "metadata": {
        "id": "OJMX4TkOGmY1"
      },
      "execution_count": null,
      "outputs": []
    },
    {
      "cell_type": "code",
      "source": [
        "#Sequence Generator:\n",
        "l=np.arange(1,50,2)\n",
        "print(l)"
      ],
      "metadata": {
        "id": "YBf5RgelHDku"
      },
      "execution_count": null,
      "outputs": []
    }
  ]
}