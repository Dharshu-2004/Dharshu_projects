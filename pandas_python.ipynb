{
  "nbformat": 4,
  "nbformat_minor": 0,
  "metadata": {
    "colab": {
      "provenance": []
    },
    "kernelspec": {
      "name": "python3",
      "display_name": "Python 3"
    },
    "language_info": {
      "name": "python"
    }
  },
  "cells": [
    {
      "cell_type": "code",
      "execution_count": 1,
      "metadata": {
        "id": "LDNQjTVnBkv5"
      },
      "outputs": [],
      "source": [
        "import pandas as pd\n"
      ]
    },
    {
      "cell_type": "markdown",
      "source": [
        "**creating the data frame using the dictionary**"
      ],
      "metadata": {
        "id": "qrYRALD42hkj"
      }
    },
    {
      "cell_type": "code",
      "source": [
        "\n",
        "# Creating a DataFrame from a dictionary\n",
        "data = {\n",
        "    'Name': ['Alice', 'Bob', 'Charlie', 'David'],\n",
        "    'Age': [25, 30, 35, 40],\n",
        "    'City': ['New York', 'Los Angeles', 'Chicago', 'Houston']\n",
        "}"
      ],
      "metadata": {
        "id": "StFGdyCmyzIA"
      },
      "execution_count": 2,
      "outputs": []
    },
    {
      "cell_type": "code",
      "source": [
        "df = pd.DataFrame(data)\n",
        "print(df)"
      ],
      "metadata": {
        "id": "b7oqJRnHzFIK"
      },
      "execution_count": null,
      "outputs": []
    },
    {
      "cell_type": "markdown",
      "source": [
        "**creating data frame using list**"
      ],
      "metadata": {
        "id": "13tc1usA2pBA"
      }
    },
    {
      "cell_type": "code",
      "source": [
        "data = [\n",
        "    ['Alice', 25, 'New York'],\n",
        "    ['Bob', 30, 'Los Angeles'],\n",
        "    ['Charlie', 35, 'Chicago'],\n",
        "    ['David', 40, 'Houston']\n",
        "]"
      ],
      "metadata": {
        "id": "dd3m1z0mDYMv"
      },
      "execution_count": 4,
      "outputs": []
    },
    {
      "cell_type": "code",
      "source": [
        "df = pd.DataFrame(data, columns=['Name', 'Age', 'City'])\n",
        "print(df)"
      ],
      "metadata": {
        "id": "dI6Hnffn210H"
      },
      "execution_count": null,
      "outputs": []
    },
    {
      "cell_type": "markdown",
      "source": [
        "**creating data frame using the series**"
      ],
      "metadata": {
        "id": "PLeaX-lt3PES"
      }
    },
    {
      "cell_type": "code",
      "source": [
        "names = pd.Series(['Alice', 'Bob', 'Charlie', 'David'])\n",
        "ages = pd.Series([25, 30, 35, 40])\n",
        "cities = pd.Series(['New York', 'Los Angeles', 'Chicago', 'Houston'])"
      ],
      "metadata": {
        "id": "sjy_unV93TqT"
      },
      "execution_count": 6,
      "outputs": []
    },
    {
      "cell_type": "code",
      "source": [
        "df = pd.DataFrame({\n",
        "    'Name': names,\n",
        "    'Age': ages,\n",
        "    'City': cities\n",
        "})\n",
        "\n",
        "print(df)"
      ],
      "metadata": {
        "id": "-aKuiShe3eLu"
      },
      "execution_count": null,
      "outputs": []
    },
    {
      "cell_type": "markdown",
      "source": [
        "**sorted values by age**"
      ],
      "metadata": {
        "id": "y2Jf56SQ4Nw2"
      }
    },
    {
      "cell_type": "code",
      "source": [
        "data = {\n",
        "    'Name': ['Max', 'clary', 'Charlie', 'David'],\n",
        "    'Age': [25, 30, 35, 40],\n",
        "    'Score': [85, 90, 95, 80]\n",
        "}\n",
        "\n",
        "df = pd.DataFrame(data)\n",
        "print(\"Original DataFrame:\")\n",
        "print(df)"
      ],
      "metadata": {
        "id": "ltaiRj4t4UlE"
      },
      "execution_count": null,
      "outputs": []
    },
    {
      "cell_type": "code",
      "source": [
        " print(df.sort_values(by='Age', ascending=True)) #ascending order"
      ],
      "metadata": {
        "id": "SQ5qYBqo4eVR"
      },
      "execution_count": null,
      "outputs": []
    },
    {
      "cell_type": "code",
      "source": [
        " print(df.sort_values(by='Age', ascending=False))#descending order"
      ],
      "metadata": {
        "id": "VVYK_rcv4l1x"
      },
      "execution_count": null,
      "outputs": []
    },
    {
      "cell_type": "markdown",
      "source": [
        "**Addition of columns named \"No of projects completed\"**"
      ],
      "metadata": {
        "id": "rizTrAAO5FT2"
      }
    },
    {
      "cell_type": "code",
      "source": [
        "df['No of Projects Completed'] = [5, 7, 10, 3]\n",
        "print(df)"
      ],
      "metadata": {
        "id": "1vKWh7UI5Jw2"
      },
      "execution_count": null,
      "outputs": []
    },
    {
      "cell_type": "markdown",
      "source": [
        "**working on rows**"
      ],
      "metadata": {
        "id": "bWrRlPMe6F26"
      }
    },
    {
      "cell_type": "code",
      "source": [
        "print(df.loc[1])"
      ],
      "metadata": {
        "id": "iLqlk2pc5dig"
      },
      "execution_count": null,
      "outputs": []
    },
    {
      "cell_type": "markdown",
      "source": [
        "**addition of row**"
      ],
      "metadata": {
        "id": "Cne9ZQxm6d82"
      }
    },
    {
      "cell_type": "code",
      "source": [
        "new_row = {'Name': 'Eva', 'Age': 28, 'Score': 88}\n",
        "df.loc[4]=new_row\n",
        "print(df)"
      ],
      "metadata": {
        "id": "lMfjHBhr6WKM"
      },
      "execution_count": null,
      "outputs": []
    },
    {
      "cell_type": "markdown",
      "source": [
        "**deletion of column**"
      ],
      "metadata": {
        "id": "0P6F1u6M5WUa"
      }
    },
    {
      "cell_type": "code",
      "source": [
        "df_dropped = df.drop(columns=['No of Projects Completed'])\n",
        "print(\"\\nDataFrame after deleting 'No of Projects Completed' column:\")\n",
        "print(df_dropped)"
      ],
      "metadata": {
        "id": "W6fMD0jJ5ZWD"
      },
      "execution_count": null,
      "outputs": []
    },
    {
      "cell_type": "markdown",
      "source": [
        "**deletion of data frame**"
      ],
      "metadata": {
        "id": "Yhldt-x56rct"
      }
    },
    {
      "cell_type": "code",
      "source": [
        "del df\n",
        "print(df)\n"
      ],
      "metadata": {
        "id": "Aqn0zEne6vLg"
      },
      "execution_count": null,
      "outputs": []
    }
  ]
}