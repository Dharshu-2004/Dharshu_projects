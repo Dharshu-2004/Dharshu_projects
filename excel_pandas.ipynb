{
  "nbformat": 4,
  "nbformat_minor": 0,
  "metadata": {
    "colab": {
      "provenance": []
    },
    "kernelspec": {
      "name": "python3",
      "display_name": "Python 3"
    },
    "language_info": {
      "name": "python"
    }
  },
  "cells": [
    {
      "cell_type": "code",
      "source": [
        "import pandas as pd"
      ],
      "metadata": {
        "id": "VuZW6hlIURbc"
      },
      "execution_count": 3,
      "outputs": []
    },
    {
      "cell_type": "markdown",
      "source": [
        "**uploading the excel sheet**"
      ],
      "metadata": {
        "id": "2mJnD7hJ-1w7"
      }
    },
    {
      "cell_type": "code",
      "source": [
        "data = pd.read_excel('demo.xlsx')"
      ],
      "metadata": {
        "id": "Jznw19bT9Rf1"
      },
      "execution_count": 5,
      "outputs": []
    },
    {
      "cell_type": "markdown",
      "source": [
        "**print first 5 rows**"
      ],
      "metadata": {
        "id": "MWLI7onD-5jl"
      }
    },
    {
      "cell_type": "code",
      "source": [
        "data.head()"
      ],
      "metadata": {
        "id": "TfgjhwXbU_ht"
      },
      "execution_count": null,
      "outputs": []
    },
    {
      "cell_type": "markdown",
      "source": [
        "**print last 5 rows**"
      ],
      "metadata": {
        "id": "nP2R_HaT-8Ux"
      }
    },
    {
      "cell_type": "code",
      "source": [
        "data.tail()"
      ],
      "metadata": {
        "id": "z9LwRTbh916h"
      },
      "execution_count": null,
      "outputs": []
    },
    {
      "cell_type": "markdown",
      "source": [
        "**print last 10 rows**"
      ],
      "metadata": {
        "id": "TXsjmIBQ-_Yk"
      }
    },
    {
      "cell_type": "code",
      "source": [
        "data.tail(10)"
      ],
      "metadata": {
        "id": "f-7TSC3k9-LB"
      },
      "execution_count": null,
      "outputs": []
    },
    {
      "cell_type": "markdown",
      "source": [
        "**describe the dataset**"
      ],
      "metadata": {
        "id": "2A0Zkkei_C5i"
      }
    },
    {
      "cell_type": "code",
      "source": [
        "data.describe()\n"
      ],
      "metadata": {
        "id": "gM7HH2g3-AeF"
      },
      "execution_count": null,
      "outputs": []
    },
    {
      "cell_type": "markdown",
      "source": [
        "**gives an information aobut the dataset**"
      ],
      "metadata": {
        "id": "BrCGwWdO_Fmp"
      }
    },
    {
      "cell_type": "code",
      "source": [
        "data.info()"
      ],
      "metadata": {
        "id": "u-j62lJO-JgY"
      },
      "execution_count": null,
      "outputs": []
    },
    {
      "cell_type": "markdown",
      "source": [
        "**gives the shape of the data set**"
      ],
      "metadata": {
        "id": "vrRFOEfm_JH9"
      }
    },
    {
      "cell_type": "code",
      "source": [
        "data.shape"
      ],
      "metadata": {
        "id": "WJBRCQML-YxF"
      },
      "execution_count": null,
      "outputs": []
    },
    {
      "cell_type": "markdown",
      "source": [
        "**gives the column details about the data set**"
      ],
      "metadata": {
        "id": "7M0ogQP7_L4S"
      }
    },
    {
      "cell_type": "code",
      "source": [
        "data.columns"
      ],
      "metadata": {
        "id": "3DnfwMqr-bnd"
      },
      "execution_count": null,
      "outputs": []
    },
    {
      "cell_type": "markdown",
      "source": [
        "**syntax: df['column_name'].value_counts()**"
      ],
      "metadata": {
        "id": "RwabTbR3-u8-"
      }
    },
    {
      "cell_type": "code",
      "source": [
        "data['name'].value_counts()"
      ],
      "metadata": {
        "id": "VV407PPz-jL7"
      },
      "execution_count": null,
      "outputs": []
    },
    {
      "cell_type": "code",
      "source": [
        "data['age'].value_counts()"
      ],
      "metadata": {
        "id": "bjUo0zvs-sFf"
      },
      "execution_count": null,
      "outputs": []
    },
    {
      "cell_type": "markdown",
      "source": [
        "**Sorting the values**"
      ],
      "metadata": {
        "id": "7ekwI7Gh_XDX"
      }
    },
    {
      "cell_type": "code",
      "source": [
        "data.sort_values(by='age')"
      ],
      "metadata": {
        "id": "rXOGLrlx_ZmH"
      },
      "execution_count": null,
      "outputs": []
    },
    {
      "cell_type": "markdown",
      "source": [
        "**leaves the missing values**"
      ],
      "metadata": {
        "id": "TT70tsb-_hn-"
      }
    },
    {
      "cell_type": "code",
      "source": [
        "data.dropna()"
      ],
      "metadata": {
        "id": "NJVYF9HK_j7b"
      },
      "execution_count": null,
      "outputs": []
    },
    {
      "cell_type": "markdown",
      "source": [
        "**installing scientific python library**"
      ],
      "metadata": {
        "id": "Rs05xgsUBMUy"
      }
    },
    {
      "cell_type": "code",
      "source": [
        "pip install scikit-learn\n"
      ],
      "metadata": {
        "id": "o_1Yd4SG_7Sn"
      },
      "execution_count": null,
      "outputs": []
    },
    {
      "cell_type": "markdown",
      "source": [
        "**importing pandas**"
      ],
      "metadata": {
        "id": "Sme8lVZvBQUy"
      }
    },
    {
      "cell_type": "code",
      "source": [
        "import pandas as pd\n",
        "from sklearn.model_selection import train_test_split"
      ],
      "metadata": {
        "id": "-fjy5FHgATS0"
      },
      "execution_count": 23,
      "outputs": []
    },
    {
      "cell_type": "markdown",
      "source": [
        "**test_size 0.3 means 30% for testing and 70% remaining for training**"
      ],
      "metadata": {
        "id": "qW1B-o7vAXUi"
      }
    },
    {
      "cell_type": "code",
      "source": [
        "train_df, test_df = train_test_split(data, test_size=0.3, random_state=42)\n",
        "\n",
        "# Print the results\n",
        "print(\"Training DataFrame:\")\n",
        "print(train_df)\n",
        "print(\"\\nTesting DataFrame:\")\n",
        "print(test_df)"
      ],
      "metadata": {
        "id": "rXdrkudaALuw"
      },
      "execution_count": null,
      "outputs": []
    },
    {
      "cell_type": "markdown",
      "source": [
        "**Train the Model: Use the training data to fit your model.**"
      ],
      "metadata": {
        "id": "n8-i_TKABVFa"
      }
    },
    {
      "cell_type": "code",
      "source": [
        "from sklearn.linear_model import LogisticRegression\n",
        "\n",
        "# Example for classification model\n",
        "model = LogisticRegression()\n",
        "model.fit(train_df[['age', 'roll no']], train_df['name'])\n"
      ],
      "metadata": {
        "id": "h0pDFCBMAx1O"
      },
      "execution_count": null,
      "outputs": []
    },
    {
      "cell_type": "markdown",
      "source": [
        "**Model Evaluation:**"
      ],
      "metadata": {
        "id": "CX-ZhUiNBgWn"
      }
    },
    {
      "cell_type": "markdown",
      "source": [
        "**Predict on Test Data: Use your trained model to make predictions on the test set**"
      ],
      "metadata": {
        "id": "uCUTLLqcBhiz"
      }
    },
    {
      "cell_type": "code",
      "source": [
        "predictions = model.predict(test_df[['age', 'roll no']])\n"
      ],
      "metadata": {
        "id": "ujwFJEtwA6nM"
      },
      "execution_count": 28,
      "outputs": []
    },
    {
      "cell_type": "code",
      "source": [
        "from sklearn.metrics import accuracy_score\n",
        "\n",
        "accuracy = accuracy_score(test_df['name'], predictions)\n",
        "print(\"Accuracy:\", accuracy)\n"
      ],
      "metadata": {
        "id": "4nDLork6A8EP"
      },
      "execution_count": null,
      "outputs": []
    }
  ]
}